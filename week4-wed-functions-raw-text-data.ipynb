{
 "cells": [
  {
   "cell_type": "markdown",
   "metadata": {},
   "source": [
    "# Pre-class: more on functions and textual data\n",
    "\n",
    "For the cells in the second (reading in data) section of this notebook to work properly, you'll need to run the last two cells, which contain long strings / lists, and then run the other cells again (this is to avoid importing files).\n",
    "\n",
    "## Functions\n",
    "\n",
    "We've used quite a few functions in the last two weeks: both the regular kind `print()`, `len()` and so on, as well as quite a few methods: `str.split()`, `str.find(substr)` and etc\n",
    "\n",
    "We should say more about how functions work in python, though, because most of the code we write this quarter will, one way or another, be a part of a function that we create. Consider this example, very similar to a function you wrote for HW3:"
   ]
  },
  {
   "cell_type": "code",
   "execution_count": 1,
   "metadata": {},
   "outputs": [],
   "source": [
    "def new_math(a, b):\n",
    "    \"\"\"\n",
    "    This is a docstring, a special kind of string that provides information about a function (or similar entity).\n",
    "    \"\"\"\n",
    "    result = a * b - 1\n",
    "    return result"
   ]
  },
  {
   "cell_type": "markdown",
   "metadata": {},
   "source": [
    "(You might have just put the math after the return statement, making this into a one-line function, which is totally fine)\n",
    "\n",
    "Once you define a function, it works just like one of python's *built-in* functions. "
   ]
  },
  {
   "cell_type": "code",
   "execution_count": 2,
   "metadata": {},
   "outputs": [
    {
     "name": "stdout",
     "output_type": "stream",
     "text": [
      "new_math(1, 1) = 0\n",
      "new_math(1, 2) = 1\n",
      "new_math(1, 3) = 2\n",
      "new_math(1, 4) = 3\n",
      "new_math(2, 1) = 1\n",
      "new_math(2, 2) = 3\n",
      "new_math(2, 3) = 5\n",
      "new_math(2, 4) = 7\n",
      "new_math(3, 1) = 2\n",
      "new_math(3, 2) = 5\n",
      "new_math(3, 3) = 8\n",
      "new_math(3, 4) = 11\n",
      "new_math(4, 1) = 3\n",
      "new_math(4, 2) = 7\n",
      "new_math(4, 3) = 11\n",
      "new_math(4, 4) = 15\n"
     ]
    }
   ],
   "source": [
    "nums = [1, 2, 3, 4]\n",
    "for num1 in nums:\n",
    "    for num2 in nums:\n",
    "        print(f\"new_math({num1}, {num2}) = {new_math(num1, num2)}\")"
   ]
  },
  {
   "cell_type": "markdown",
   "metadata": {},
   "source": [
    "Incidentally, this is a thing you can do with lists! If we were a CS class we might talk about doing something like `for row in table ... for column in row ...` Instead, you're most likely to see this in something like `for novel in corpus ... for word in novel`.\n",
    "\n",
    "Anyhow, you can see that we called our function, and it worked pretty similarly to if we'd used a math function supported by python:"
   ]
  },
  {
   "cell_type": "code",
   "execution_count": 3,
   "metadata": {},
   "outputs": [
    {
     "name": "stdout",
     "output_type": "stream",
     "text": [
      "Greatest common divisor of *1* and *1* is 1\n",
      "Greatest common divisor of *1* and *2* is 1\n",
      "Greatest common divisor of *1* and *3* is 1\n",
      "Greatest common divisor of *1* and *4* is 1\n",
      "Greatest common divisor of *2* and *1* is 1\n",
      "Greatest common divisor of *2* and *2* is 2\n",
      "Greatest common divisor of *2* and *3* is 1\n",
      "Greatest common divisor of *2* and *4* is 2\n",
      "Greatest common divisor of *3* and *1* is 1\n",
      "Greatest common divisor of *3* and *2* is 1\n",
      "Greatest common divisor of *3* and *3* is 3\n",
      "Greatest common divisor of *3* and *4* is 1\n",
      "Greatest common divisor of *4* and *1* is 1\n",
      "Greatest common divisor of *4* and *2* is 2\n",
      "Greatest common divisor of *4* and *3* is 1\n",
      "Greatest common divisor of *4* and *4* is 4\n"
     ]
    }
   ],
   "source": [
    "from math import gcd as GCD # python keeps its math functions separate, so we have to tell it to load this function\n",
    "for num1 in nums:\n",
    "    for num2 in nums:\n",
    "        print(f\"Greatest common divisor of *{num1}* and *{num2}* is {GCD(num1, num2)}\")"
   ]
  },
  {
   "cell_type": "markdown",
   "metadata": {},
   "source": [
    "Now, lets go back to our function definition and notice a few things:\n",
    "\n",
    "`\n",
    "def new_math(a, b):\n",
    "    \"\"\"\n",
    "    This is a docstring, a special kind of string that provides information about a function (or similar entity).\n",
    "    \"\"\"\n",
    "    result = a * b - 1\n",
    "    return result\n",
    "`\n",
    "\n",
    "Like an if-statement or a for loop, the function definition ends in a colon, and everything in it is indented one step. The first line spells out the functin name, and then lists the parameters in parenthesese---every now and then, you'll see functions without parameters (this isn't super common in functions you write, but think about str.split()), in which case they're just empty. The function also ends with a return statement. This isn't required, but it's very common and will be the case for most of the functions we write. \n",
    "\n",
    "A return statement is a way to get something out of the function and into the rest of your python code; without one, you're generally relying on your output going somewhere else, like a file or printed to screen (or you're writing a function that doesn't do anything. Functions sometimes return 0 just to show that they've executed successfully, and sometimes return specific numbers to indicate that they didn't work normally. For example, `str.find()` returns `-1` when it doesn't find the string. This allows the rest of your code an easy way to check if, say, the data was written to file. \n",
    "\n",
    "There are a couple of other details. Most functions should contain a docstring, which is a triple-quoted string at the very begining of the function and says what the function does. If you create a docstring in python, it'll pre-populated it with some more complicated fields that describe the function; you can just delete these. \n",
    "\n",
    "### Scope\n",
    "\n",
    "The most important thing about functions is that each function is its own little world, cunningly made so that nothing from the outside is allowed in. The only variables inside a function are the ones that were put in as parameters, and any that are made there. Consider this example:"
   ]
  },
  {
   "cell_type": "code",
   "execution_count": 12,
   "metadata": {},
   "outputs": [
    {
     "name": "stdout",
     "output_type": "stream",
     "text": [
      "Period found at index 117\n",
      "Period found at index 375\n",
      "2\n"
     ]
    },
    {
     "ename": "NameError",
     "evalue": "name 'indices' is not defined",
     "output_type": "error",
     "traceback": [
      "\u001b[1;31m---------------------------------------------------------------------------\u001b[0m",
      "\u001b[1;31mNameError\u001b[0m                                 Traceback (most recent call last)",
      "\u001b[1;32m<ipython-input-12-fcd0a0c5781f>\u001b[0m in \u001b[0;36m<module>\u001b[1;34m\u001b[0m\n\u001b[0;32m     14\u001b[0m \u001b[1;33m\u001b[0m\u001b[0m\n\u001b[0;32m     15\u001b[0m \u001b[0mprint\u001b[0m\u001b[1;33m(\u001b[0m\u001b[0mlen\u001b[0m\u001b[1;33m(\u001b[0m\u001b[0mfind_periods\u001b[0m\u001b[1;33m(\u001b[0m\u001b[0mtruth\u001b[0m\u001b[1;33m)\u001b[0m\u001b[1;33m)\u001b[0m\u001b[1;33m)\u001b[0m\u001b[1;33m\u001b[0m\u001b[1;33m\u001b[0m\u001b[0m\n\u001b[1;32m---> 16\u001b[1;33m \u001b[0mprint\u001b[0m\u001b[1;33m(\u001b[0m\u001b[0mindices\u001b[0m\u001b[1;33m)\u001b[0m\u001b[1;33m\u001b[0m\u001b[1;33m\u001b[0m\u001b[0m\n\u001b[0m",
      "\u001b[1;31mNameError\u001b[0m: name 'indices' is not defined"
     ]
    }
   ],
   "source": [
    "def find_periods(s):\n",
    "    indices = []\n",
    "    for i in range(len(s)):\n",
    "        if s[i] =='.':\n",
    "            print(f'Period found at index {i}')\n",
    "            indices.append(i)\n",
    "    return indices\n",
    "\n",
    "\n",
    "truth = \"\"\"\n",
    "It is a truth universally acknowledged, that a single man in possession of a good fortune, must be in want of a wife.\n",
    "However little known the feelings or views of such a man may be on his first entering a neighbourhood, this truth is so well fixed in the minds of the surrounding families, that he is considered the rightful property of some one or other of their daughters.\n",
    "\"\"\"\n",
    "\n",
    "print(len(find_periods(truth)))\n",
    "print(indices)"
   ]
  },
  {
   "cell_type": "markdown",
   "metadata": {},
   "source": [
    "`indices` only exists within `find_periods()`, as, interestingly, `string` only exists outside of it: within the function, a copy of it exists, but it goes by the name `s`. This is a good thing, because it means that lots of different functions can have variables named `i` or `count` or `result` and there's never a chance of confusion or collision. Things are isolated from one another, so they can be worked on without "
   ]
  },
  {
   "cell_type": "markdown",
   "metadata": {},
   "source": [
    "## Reading in Data\n",
    "\n",
    "We'll talk about exactly how to read textual data into python in a future week, but for now, it's important to know that you'll generally be dealing with one of two lines of text, though it's easy enough to convert from one to the other. The first option is to read a text file into one giant string. The second option is to read each line as a string, and store them all in a list. Generally, the string form is most useful if we ultimately want to keep the raw text more or less as is, while the lines method lends itself more to text that's going to be cleaned up more (e.g., casefolded and stripped of punctuation). \n",
    "\n",
    "#### Converting from one format to the other:\n",
    "\n",
    "This is a realtively simple matter of using `'\\n'.join()` or `str.split()`. You'll have to run the last two cells in this notebook to get this code to work (I put them at the bottom because they contain crazy long strings / lists---the binder format we've been using to share notebooks doesn't work with external files)"
   ]
  },
  {
   "cell_type": "code",
   "execution_count": 7,
   "metadata": {},
   "outputs": [
    {
     "name": "stdout",
     "output_type": "stream",
     "text": [
      "Length of split lines: 73; Length of text read as lines: 140\n"
     ]
    }
   ],
   "source": [
    "clarke_split = clarke_str.split('\\n')\n",
    "print(f\"Length of split lines: {len(clarke_split)}; Length of text read as lines: {len(clarke_lines)}\")"
   ]
  },
  {
   "cell_type": "markdown",
   "metadata": {},
   "source": [
    "Let's take a closer look:"
   ]
  },
  {
   "cell_type": "code",
   "execution_count": 8,
   "metadata": {},
   "outputs": [
    {
     "name": "stdout",
     "output_type": "stream",
     "text": [
      "30\n",
      "17\n",
      "1\n",
      "411\n",
      "1\n",
      "412\n",
      "1\n",
      "31\n",
      "1\n",
      "231\n",
      "1\n",
      "13\n",
      "1\n",
      "110\n",
      "1\n",
      "21\n",
      "1\n",
      "164\n",
      "1\n",
      "52\n"
     ]
    }
   ],
   "source": [
    "for i in range(20):\n",
    "    print(len(clarke_lines[i]))"
   ]
  },
  {
   "cell_type": "markdown",
   "metadata": {},
   "source": [
    "Remember how different systems have different line-endings? `CR`, `LF` and `CRLF`? If you did, you might suspect that some of these lines are just `'\\n'`, and you'd be right. We can fix that, and it's a useful pattern to know. Of course, if we were fixing this, this might be a good time to do other cleaning as well: we could lowercase the lines, strip punctuation, or similar. "
   ]
  },
  {
   "cell_type": "code",
   "execution_count": 9,
   "metadata": {},
   "outputs": [
    {
     "name": "stdout",
     "output_type": "stream",
     "text": [
      "71\n",
      "71\n"
     ]
    }
   ],
   "source": [
    "def clean_newlines(lines):\n",
    "    lines_temp = []\n",
    "    for i in range(len(lines)):\n",
    "        if len(lines[i]) > 1:\n",
    "            lines_temp.append(lines[i])\n",
    "    return lines_temp\n",
    "print(len(clean_newlines(clarke_lines)))\n",
    "print(len(clean_newlines(clarke_split)))"
   ]
  },
  {
   "cell_type": "markdown",
   "metadata": {},
   "source": [
    "Looking a lot better! For this next part I'm going to assign the return value of `clean_newlines()` that you'll need to run the cells at the bottom again if you want to start over. "
   ]
  },
  {
   "cell_type": "code",
   "execution_count": 10,
   "metadata": {},
   "outputs": [
    {
     "name": "stdout",
     "output_type": "stream",
     "text": [
      "False\n",
      "The Nine Billion Names of God\n",
      "The Nine Billion Names of God\n",
      "\n",
      "False\n",
      "Arthur C. Clarke\n",
      "Arthur C. Clarke\n",
      "\n",
      "False\n",
      "“This is a slightly unusual request,” said Dr. Wagner, with what he hoped was commendable restraint. “As far as I know, it’s the first time anyone’s been asked to supply a Tibetan monastery with an Automatic Sequence Computer. I don’t wish to be inquisitive, but I should hardly have thought that your — ah — establishment had much use for such a machine. Could you explain just what you intend to do with it?”\n",
      "“This is a slightly unusual request,” said Dr. Wagner, with what he hoped was commendable restraint. “As far as I know, it’s the first time anyone’s been asked to supply a Tibetan monastery with an Automatic Sequence Computer. I don’t wish to be inquisitive, but I should hardly have thought that your — ah — establishment had much use for such a machine. Could you explain just what you intend to do with it?”\n",
      "\n",
      "True\n",
      "True\n",
      "True\n"
     ]
    }
   ],
   "source": [
    "clarke_split = clean_newlines(clarke_split) \n",
    "clarke_lines = clean_newlines(clarke_lines)\n",
    "\n",
    "for i in range(3):\n",
    "    print(clarke_split[i] == clarke_lines[i])\n",
    "    print(clarke_split[i] + '\\n' + clarke_lines[i])\n",
    "    \n",
    "for i in range(3):\n",
    "    print(clarke_split[i].strip() == clarke_lines[i].strip())"
   ]
  },
  {
   "cell_type": "code",
   "execution_count": 6,
   "metadata": {},
   "outputs": [],
   "source": [
    "clarke_str = \"\"\"\n",
    "The Nine Billion Names of God\n",
    "Arthur C. Clarke\n",
    "“This is a slightly unusual request,” said Dr. Wagner, with what he hoped was commendable restraint. “As far as I know, it’s the first time anyone’s been asked to supply a Tibetan monastery with an Automatic Sequence Computer. I don’t wish to be inquisitive, but I should hardly have thought that your — ah — establishment had much use for such a machine. Could you explain just what you intend to do with it?”\n",
    "“Gladly,” replied the lama, readjusting his silk robes and carefully putting away the slide rule he had been using for currency conversions. “Your Mark V Computer can carry out any routine mathematical operation involving up to ten digits. However, for our work we are interested in letters, not numbers. As we wish you to modify the output circuits, the machine will be printing words, not columns of figures.”\n",
    "“I don’t quite understand....”\n",
    "“This is a project on which we have been working for the last three centuries — since the lamasery was founded, in fact. It is somewhat alien to your way of thought, so I hope you will listen with an open mind while I explain it.”\n",
    "“Naturally.”\n",
    "“It is really quite simple. We have been compiling a list which shall contain all the possible names of God.”\n",
    "“I beg your pardon?”\n",
    "“We have reason to believe,” continued the lama imperturbably, “that all such names can be written with not more than nine letters in an alphabet we have devised.”\n",
    "“And you have been doing this for three centuries?”\n",
    "“Yes: we expected it would take us about fifteen thousand years to complete the task.”\n",
    "“Oh,” Dr. Wagner looked a little dazed. “Now I see why you wanted to hire one of our machines. But exactly what is the purpose of this project?”\n",
    "The lama hesitated for a fraction of a second, and Wagner wondered if he had offended him. If so, there was no trace of annoyance in the reply.\n",
    "“Call it ritual, if you like, but it’s a fundamental part of our belief. All the many names of the Supreme Being — God, Jehovah, Allah, and so on — they are only man-made labels. There is a philosophical problem of some difficulty here, which I do not propose to discuss, but somewhere among all the possible combinations of letters that can occur are what one may call the real names of God. By systematic permutation of letters, we have been trying to list them all.”\n",
    "“I see. You’ve been starting at AAAAAAA... and working up to ZZZZZZZZ....”\n",
    "“Exactly — though we use a special alphabet of our own. Modifying the electromatic typewriters to deal with this is, of course, trivial. A rather more interesting problem is that of devising suitable circuits to eliminate ridiculous combinations. For example, no letter must occur more than three times in succession.”\n",
    "“Three? Surely you mean two.”\n",
    "“Three is correct: I am afraid it would take too long to explain why, even if you understood our language.”\n",
    "“I’m sure it would,” said Wagner hastily. “Go on.”\n",
    "“Luckily, it will be a simple matter to adapt your Automatic Sequence Computer for this work, since once it has been programmed properly it will permute each letter in turn and print the result. What would have taken us fifteen thousand years it will be able to do in a hundred days.”\n",
    "Dr. Wagner was scarcely conscious of the faint sounds from the Manhattan streets far below. He was in a different world, a world of natural, not man-made, mountains. High up in their remote aeries these monks had been patiently at work, generation after generation, compiling their lists of meaningless words. Was there any limit to the follies of mankind? Still, he must give no hint of his inner thoughts. The customer was always right....\n",
    "“There’s no doubt,” replied the doctor, “that we can modify the Mark V to print lists of this nature. I’m much more worried about the problem of installation and maintenance. Getting out to Tibet, in these days, is not going to be easy.”\n",
    "“We can arrange that. The components are small enough to travel by air — that is one reason why we chose your machine. If you can get them to India, we will provide transport from there.”\n",
    "“And you want to hire two of our engineers?”\n",
    "“Yes, for the three months that the project should occupy.”\n",
    "“I’ve no doubt that Personnel can manage that.” Dr. Wagner scribbled a note on his desk pad. “There are just two other points —”\n",
    "Before he could finish the sentence the lama had produced a small slip of paper.\n",
    "“This is my certified credit balance at the Asiatic Bank.”\n",
    "“Thank you. It appears to be — ah — adequate. The second matter is so trivial that I hesitate to mention it — but it’s surprising how often the obvious gets overlooked. What source of electrical energy have you?”\n",
    "“A diesel generator providing fifty kilowatts at a hundred and ten volts. It was installed about five years ago and is quite reliable. It’s made life at the lamasery much more comfortable, but of course it was really installed to provide power for the motors driving the prayer wheels.”\n",
    "“Of course,” echoed Dr. Wagner. “I should have thought of that.”\n",
    "The view from the parapet was vertiginous, but in time one gets used to anything. After three months, George Hanley was not impressed by the two-thousand-foot swoop into the abyss or the remote checkerboard of fields in the valley below. He was leaning against the wind-smoothed stones and staring morosely at the distant mountains whose names he had never bothered to discover.\n",
    "This, thought George, was the craziest thing that had ever happened to him. “Project Shangri-La,” some wit back at the labs had christened it. For weeks now the Mark V had been churning out acres of sheets covered with gibberish. Patiently, inexorably, the computer had been rearranging letters in all their possible combinations, exhausting each class before going on to the next. As the sheets had emerged from the electromatic typewriters, the monks had carefully cut them up and pasted them into enormous books.\n",
    "In another week, heaven be praised, they would have finished. Just what obscure calculations had convinced the monks that they needn’t bother to go on to words of ten, twenty, or a hundred letters, George didn’t know. One of his recurring nightmares was that there would be some change of plan, and that the high lama (whom they’d naturally called Sam Jaffe, though he didn’t look a bit like him) would suddenly announce that the project would be extended to approximately A.D. 2060. They were quite capable of it.\n",
    "George heard the heavy wooden door slam in the wind as Chuck came out onto the parapet beside him. As usual, Chuck was smoking one of the cigars that made him so popular with the monks — who, it seemed, were quite willing to embrace all the minor and most of the major pleasures of life. That was one thing in their favor: they might be crazy, but they weren’t bluenoses. Those frequent trips they took down to the village, for instance...\n",
    "“Listen, George,” said Chuck urgently. “I’ve learned something that means trouble.”\n",
    "“What’s wrong? Isn’t the machine behaving?” That was the worst contingency George could imagine. It might delay his return, and nothing could be more horrible. The way he felt now, even the sight of a TV commercial would seem like manna from heaven. At least it would be some link with home.\n",
    "“No — it’s nothing like that.” Chuck settled himself on the parapet, which was unusual because normally he was scared of the drop. “I’ve just found what all this is about.”\n",
    "What d’ya mean? I thought we knew.”\n",
    "“Sure — we know what the monks are trying to do. But we didn’t know why. It’s the craziest thing—”\n",
    "“Tell me something new,” growled George.\n",
    "“— but old Sam’s just come clean with me. You know the way he drops in every afternoon to watch the sheets roll out. Well, this time he seemed rather excited, or at least as near as he’ll ever get to it. When I told him that we were on the last cycle he asked me, in that cute English accent of his, if I’d ever wondered what they were trying to do. I said, ‘Sure’ — and he told me.”\n",
    "“Go on: I’ll buy it.”\n",
    "“Well, they believe that when they have listed all His names — and they reckon that there are about nine billion of them — God’s purpose will be achieved. The human race will have finished what it was created to do, and there won’t be any point in carrying on. Indeed, the very idea is something like blasphemy.”\n",
    "“Then what do they expect us to do? Commit suicide?”\n",
    "“There’s no need for that. When the list’s completed, God steps in and simply winds things up... bingo!”\n",
    "“Oh, I get it. When we finish our job, it will be the end of the world.”\n",
    "Chuck gave a nervous little laugh.\n",
    "“That’s just what I said to Sam. And do you know what happened? He looked at me in a very queer way, like I’d been stupid in class, and said, ’It’s nothing as trivial as that.’ ”\n",
    "George thought this over a moment.\n",
    "“That’s what I call taking the Wide View,” he said presently. “But what d’you suppose we should do about it? I don’t see that it makes the slightest difference to us. After all, we already knew that they were crazy.”\n",
    "“Yes — but don’t you see what may happen? When the list’s complete and the Last Trump doesn’t blow — or whatever it is they expect — we may get the blame. It’s our machine they’ve been using. I don’t like the situation one little bit.”\n",
    "“I see,” said George slowly. “You’ve got a point there. But this sort of thing’s happened before, you know. When I was a kid down in Louisiana we had a crackpot preacher who once said the world was going to end next Sunday. Hundreds of people believed him — even sold their homes. Yet when nothing happened, they didn’t turn nasty, as you’d expect. They just decided that he’d made a mistake in his calculations and went right on believing. I guess some of them still do.”\n",
    "“Well, this isn’t Louisiana, in case you hadn’t noticed. There are just two of us and hundreds of these monks. I like them, and I’ll be sorry for old Sam when his lifework backfires on him. But all the same, I wish I was somewhere else.”\n",
    "“I’ve been wishing that for weeks. But there’s nothing we can do until the contract’s finished and the transport arrives to fly us out.\n",
    "“Of course,” said Chuck thoughtfully, “we could always try a bit of sabotage.”\n",
    "“Like hell we could! That would make things worse.”\n",
    "“Not the way I meant. Look at it like this. The machine will finish its run four days from now, on the present twenty-hours-a-day basis. The transport calls in a week. O.K. — then all we need to do is to find something that needs replacing during one of the overhaul periods — something that will hold up the works for a couple of days. We’ll fix it, of course, but not too quickly. If we time matters properly, we can be down at the airfield when the last name pops out of the register. They won’t be able to catch us then.”\n",
    "“I don’t like it,” said George. “It will be the first time I ever walked out on a job. Besides, it ’would make them suspicious. No, I’ll sit tight and take what comes.”\n",
    "\"I still don’t like it,” he said, seven days later, as the tough little mountain ponies carried them down the winding road. “And don’t you think I’m running away because I’m afraid. I’m just sorry for those poor old guys up there, and I don’t want to be around when they find what suckers they’ve been. Wonder how Sam will take it?” “It’s funny,” replied Chuck, “but when I said good-by I got the idea he knew we were walking out on him — and that he didn’t care because he knew the machine was running smoothly and that the job would soon be finished. After that — well, of course, for him there just isn’t any After That....”\n",
    "George turned in his saddle and stared back up the mountain road. This was the last place from which one could get a clear view of the lamasery. The squat, angular buildings were silhouetted against the afterglow of the sunset: here and there, lights gleamed like portholes in the side of an ocean liner. Electric lights, of course, sharing the same circuit as the Mark V. How much longer would they share it? wondered George. Would the monks smash up the computer in their rage and disappointment? Or would they just sit down quietly and begin their calculations all over again?”\n",
    "He knew exactly what was happening up on the mountain at this very moment. The high lama and his assistants would be sitting in their silk robes, inspecting the sheets as the junior monks carried them away from the typewriters and pasted them into the great volumes. No one would be saying anything. The only sound would be the incessant patter, the never-ending rainstorm of the keys hitting the paper, for the Mark V itself was utterly silent as it flashed through its thousands of calculations a second. Three months of this, thought George, was enough to start anyone climbing up the wall.\n",
    "“There she is!” called Chuck, pointing down into the valley. “Ain’t she beautiful!”\n",
    "She certainly was, thought George. The battered old DC3 lay at the end of the runway like a tiny silver cross. In two hours she would be bearing them away to freedom and sanity. It was a thought worth savoring like a fine liqueur. George let it roll round his mind as the pony trudged patiently down the slope.\n",
    "The swift night of the high Himalayas was now almost upon them. Fortunately, the road was very good, as roads went in that region, and they were both carrying torches. There was not the slightest danger, only a certain discomfort from the bitter cold. The sky overhead was perfectly clear, and ablaze with the familiar, friendly stars. At least there would be no risk, thought George, of the pilot being unable to take off because of weather conditions. That had been his only remaining worry.\n",
    "He began to sing, but gave it up after a while. This vast arena of mountains, gleaming like whitely hooded ghosts on every side, did not encourage such ebullience. Presently George glanced at his watch.\n",
    "“Should be there in an hour,” he called back over his shoulder to Chuck. Then he added, in an afterthought: “Wonder if the computer’s finished its run. It was due about now.”\n",
    "Chuck didn’t reply, so George swung round in his saddle. He could just see Chuck’s face, a white oval turned toward the sky.\n",
    "“Look,” whispered Chuck, and George lifted his eyes to heaven. (There is always a last time for everything.)\n",
    "Overhead, without any fuss, the stars were going out. \n",
    "\"\"\""
   ]
  },
  {
   "cell_type": "code",
   "execution_count": 5,
   "metadata": {},
   "outputs": [],
   "source": [
    "clarke_lines = ['The Nine Billion Names of God\\n', 'Arthur C. Clarke\\n', '\\n', '“This is a slightly unusual request,” said Dr. Wagner, with what he hoped was commendable restraint. “As far as I know, it’s the first time anyone’s been asked to supply a Tibetan monastery with an Automatic Sequence Computer. I don’t wish to be inquisitive, but I should hardly have thought that your — ah — establishment had much use for such a machine. Could you explain just what you intend to do with it?”\\n', '\\n', '“Gladly,” replied the lama, readjusting his silk robes and carefully putting away the slide rule he had been using for currency conversions. “Your Mark V Computer can carry out any routine mathematical operation involving up to ten digits. However, for our work we are interested in letters, not numbers. As we wish you to modify the output circuits, the machine will be printing words, not columns of figures.”\\n', '\\n', '“I don’t quite understand....”\\n', '\\n', '“This is a project on which we have been working for the last three centuries — since the lamasery was founded, in fact. It is somewhat alien to your way of thought, so I hope you will listen with an open mind while I explain it.”\\n', '\\n', '“Naturally.”\\n', '\\n', '“It is really quite simple. We have been compiling a list which shall contain all the possible names of God.”\\n', '\\n', '“I beg your pardon?”\\n', '\\n', '“We have reason to believe,” continued the lama imperturbably, “that all such names can be written with not more than nine letters in an alphabet we have devised.”\\n', '\\n', '“And you have been doing this for three centuries?”\\n', '\\n', '“Yes: we expected it would take us about fifteen thousand years to complete the task.”\\n', '\\n', '“Oh,” Dr. Wagner looked a little dazed. “Now I see why you wanted to hire one of our machines. But exactly what is the purpose of this project?”\\n', '\\n', 'The lama hesitated for a fraction of a second, and Wagner wondered if he had offended him. If so, there was no trace of annoyance in the reply.\\n', '\\n', '“Call it ritual, if you like, but it’s a fundamental part of our belief. All the many names of the Supreme Being — God, Jehovah, Allah, and so on — they are only man-made labels. There is a philosophical problem of some difficulty here, which I do not propose to discuss, but somewhere among all the possible combinations of letters that can occur are what one may call the real names of God. By systematic permutation of letters, we have been trying to list them all.”\\n', '\\n', '“I see. You’ve been starting at AAAAAAA... and working up to ZZZZZZZZ....”\\n', '\\n', '“Exactly — though we use a special alphabet of our own. Modifying the electromatic typewriters to deal with this is, of course, trivial. A rather more interesting problem is that of devising suitable circuits to eliminate ridiculous combinations. For example, no letter must occur more than three times in succession.”\\n', '\\n', '“Three? Surely you mean two.”\\n', '\\n', '“Three is correct: I am afraid it would take too long to explain why, even if you understood our language.”\\n', '\\n', '“I’m sure it would,” said Wagner hastily. “Go on.”\\n', '\\n', '“Luckily, it will be a simple matter to adapt your Automatic Sequence Computer for this work, since once it has been programmed properly it will permute each letter in turn and print the result. What would have taken us fifteen thousand years it will be able to do in a hundred days.”\\n', '\\n', 'Dr. Wagner was scarcely conscious of the faint sounds from the Manhattan streets far below. He was in a different world, a world of natural, not man-made, mountains. High up in their remote aeries these monks had been patiently at work, generation after generation, compiling their lists of meaningless words. Was there any limit to the follies of mankind? Still, he must give no hint of his inner thoughts. The customer was always right....\\n', '\\n', '“There’s no doubt,” replied the doctor, “that we can modify the Mark V to print lists of this nature. I’m much more worried about the problem of installation and maintenance. Getting out to Tibet, in these days, is not going to be easy.”\\n', '\\n', '“We can arrange that. The components are small enough to travel by air — that is one reason why we chose your machine. If you can get them to India, we will provide transport from there.”\\n', '\\n', '“And you want to hire two of our engineers?”\\n', '\\n', '“Yes, for the three months that the project should occupy.”\\n', '\\n', '“I’ve no doubt that Personnel can manage that.” Dr. Wagner scribbled a note on his desk pad. “There are just two other points —”\\n', '\\n', 'Before he could finish the sentence the lama had produced a small slip of paper.\\n', '\\n', '“This is my certified credit balance at the Asiatic Bank.”\\n', '\\n', '“Thank you. It appears to be — ah — adequate. The second matter is so trivial that I hesitate to mention it — but it’s surprising how often the obvious gets overlooked. What source of electrical energy have you?”\\n', '\\n', '“A diesel generator providing fifty kilowatts at a hundred and ten volts. It was installed about five years ago and is quite reliable. It’s made life at the lamasery much more comfortable, but of course it was really installed to provide power for the motors driving the prayer wheels.”\\n', '\\n', '“Of course,” echoed Dr. Wagner. “I should have thought of that.”\\n', '\\n', 'The view from the parapet was vertiginous, but in time one gets used to anything. After three months, George Hanley was not impressed by the two-thousand-foot swoop into the abyss or the remote checkerboard of fields in the valley below. He was leaning against the wind-smoothed stones and staring morosely at the distant mountains whose names he had never bothered to discover.\\n', '\\n', 'This, thought George, was the craziest thing that had ever happened to him. “Project Shangri-La,” some wit back at the labs had christened it. For weeks now the Mark V had been churning out acres of sheets covered with gibberish. Patiently, inexorably, the computer had been rearranging letters in all their possible combinations, exhausting each class before going on to the next. As the sheets had emerged from the electromatic typewriters, the monks had carefully cut them up and pasted them into enormous books.\\n', '\\n', 'In another week, heaven be praised, they would have finished. Just what obscure calculations had convinced the monks that they needn’t bother to go on to words of ten, twenty, or a hundred letters, George didn’t know. One of his recurring nightmares was that there would be some change of plan, and that the high lama (whom they’d naturally called Sam Jaffe, though he didn’t look a bit like him) would suddenly announce that the project would be extended to approximately A.D. 2060. They were quite capable of it.\\n', '\\n', 'George heard the heavy wooden door slam in the wind as Chuck came out onto the parapet beside him. As usual, Chuck was smoking one of the cigars that made him so popular with the monks — who, it seemed, were quite willing to embrace all the minor and most of the major pleasures of life. That was one thing in their favor: they might be crazy, but they weren’t bluenoses. Those frequent trips they took down to the village, for instance...\\n', '\\n', '“Listen, George,” said Chuck urgently. “I’ve learned something that means trouble.”\\n', '\\n', '“What’s wrong? Isn’t the machine behaving?” That was the worst contingency George could imagine. It might delay his return, and nothing could be more horrible. The way he felt now, even the sight of a TV commercial would seem like manna from heaven. At least it would be some link with home.\\n', '\\n', '“No — it’s nothing like that.” Chuck settled himself on the parapet, which was unusual because normally he was scared of the drop. “I’ve just found what all this is about.”\\n', '\\n', 'What d’ya mean? I thought we knew.”\\n', '\\n', '“Sure — we know what the monks are trying to do. But we didn’t know why. It’s the craziest thing—”\\n', '\\n', '“Tell me something new,” growled George.\\n', '\\n', '“— but old Sam’s just come clean with me. You know the way he drops in every afternoon to watch the sheets roll out. Well, this time he seemed rather excited, or at least as near as he’ll ever get to it. When I told him that we were on the last cycle he asked me, in that cute English accent of his, if I’d ever wondered what they were trying to do. I said, ‘Sure’ — and he told me.”\\n', '\\n', '“Go on: I’ll buy it.”\\n', '\\n', '“Well, they believe that when they have listed all His names — and they reckon that there are about nine billion of them — God’s purpose will be achieved. The human race will have finished what it was created to do, and there won’t be any point in carrying on. Indeed, the very idea is something like blasphemy.”\\n', '\\n', '“Then what do they expect us to do? Commit suicide?”\\n', '\\n', '“There’s no need for that. When the list’s completed, God steps in and simply winds things up... bingo!”\\n', '\\n', '“Oh, I get it. When we finish our job, it will be the end of the world.”\\n', '\\n', 'Chuck gave a nervous little laugh.\\n', '\\n', '“That’s just what I said to Sam. And do you know what happened? He looked at me in a very queer way, like I’d been stupid in class, and said, ’It’s nothing as trivial as that.’ ”\\n', '\\n', 'George thought this over a moment.\\n', '\\n', '“That’s what I call taking the Wide View,” he said presently. “But what d’you suppose we should do about it? I don’t see that it makes the slightest difference to us. After all, we already knew that they were crazy.”\\n', '\\n', '“Yes — but don’t you see what may happen? When the list’s complete and the Last Trump doesn’t blow — or whatever it is they expect — we may get the blame. It’s our machine they’ve been using. I don’t like the situation one little bit.”\\n', '\\n', '“I see,” said George slowly. “You’ve got a point there. But this sort of thing’s happened before, you know. When I was a kid down in Louisiana we had a crackpot preacher who once said the world was going to end next Sunday. Hundreds of people believed him — even sold their homes. Yet when nothing happened, they didn’t turn nasty, as you’d expect. They just decided that he’d made a mistake in his calculations and went right on believing. I guess some of them still do.”\\n', '\\n', '“Well, this isn’t Louisiana, in case you hadn’t noticed. There are just two of us and hundreds of these monks. I like them, and I’ll be sorry for old Sam when his lifework backfires on him. But all the same, I wish I was somewhere else.”\\n', '\\n', '“I’ve been wishing that for weeks. But there’s nothing we can do until the contract’s finished and the transport arrives to fly us out.\\n', '\\n', '“Of course,” said Chuck thoughtfully, “we could always try a bit of sabotage.”\\n', '\\n', '“Like hell we could! That would make things worse.”\\n', '\\n', '“Not the way I meant. Look at it like this. The machine will finish its run four days from now, on the present twenty-hours-a-day basis. The transport calls in a week. O.K. — then all we need to do is to find something that needs replacing during one of the overhaul periods — something that will hold up the works for a couple of days. We’ll fix it, of course, but not too quickly. If we time matters properly, we can be down at the airfield when the last name pops out of the register. They won’t be able to catch us then.”\\n', '\\n', '“I don’t like it,” said George. “It will be the first time I ever walked out on a job. Besides, it ’would make them suspicious. No, I’ll sit tight and take what comes.”\\n', '\\n', '\"I still don’t like it,” he said, seven days later, as the tough little mountain ponies carried them down the winding road. “And don’t you think I’m running away because I’m afraid. I’m just sorry for those poor old guys up there, and I don’t want to be around when they find what suckers they’ve been. Wonder how Sam will take it?” “It’s funny,” replied Chuck, “but when I said good-by I got the idea he knew we were walking out on him — and that he didn’t care because he knew the machine was running smoothly and that the job would soon be finished. After that — well, of course, for him there just isn’t any After That....”\\n', '\\n', 'George turned in his saddle and stared back up the mountain road. This was the last place from which one could get a clear view of the lamasery. The squat, angular buildings were silhouetted against the afterglow of the sunset: here and there, lights gleamed like portholes in the side of an ocean liner. Electric lights, of course, sharing the same circuit as the Mark V. How much longer would they share it? wondered George. Would the monks smash up the computer in their rage and disappointment? Or would they just sit down quietly and begin their calculations all over again?”\\n', '\\n', 'He knew exactly what was happening up on the mountain at this very moment. The high lama and his assistants would be sitting in their silk robes, inspecting the sheets as the junior monks carried them away from the typewriters and pasted them into the great volumes. No one would be saying anything. The only sound would be the incessant patter, the never-ending rainstorm of the keys hitting the paper, for the Mark V itself was utterly silent as it flashed through its thousands of calculations a second. Three months of this, thought George, was enough to start anyone climbing up the wall.\\n', '\\n', '“There she is!” called Chuck, pointing down into the valley. “Ain’t she beautiful!”\\n', '\\n', 'She certainly was, thought George. The battered old DC3 lay at the end of the runway like a tiny silver cross. In two hours she would be bearing them away to freedom and sanity. It was a thought worth savoring like a fine liqueur. George let it roll round his mind as the pony trudged patiently down the slope.\\n', '\\n', 'The swift night of the high Himalayas was now almost upon them. Fortunately, the road was very good, as roads went in that region, and they were both carrying torches. There was not the slightest danger, only a certain discomfort from the bitter cold. The sky overhead was perfectly clear, and ablaze with the familiar, friendly stars. At least there would be no risk, thought George, of the pilot being unable to take off because of weather conditions. That had been his only remaining worry.\\n', '\\n', 'He began to sing, but gave it up after a while. This vast arena of mountains, gleaming like whitely hooded ghosts on every side, did not encourage such ebullience. Presently George glanced at his watch.\\n', '\\n', '“Should be there in an hour,” he called back over his shoulder to Chuck. Then he added, in an afterthought: “Wonder if the computer’s finished its run. It was due about now.”\\n', '\\n', 'Chuck didn’t reply, so George swung round in his saddle. He could just see Chuck’s face, a white oval turned toward the sky.\\n', '\\n', '“Look,” whispered Chuck, and George lifted his eyes to heaven. (There is always a last time for everything.)\\n', '\\n', 'Overhead, without any fuss, the stars were going out. ']"
   ]
  },
  {
   "cell_type": "code",
   "execution_count": null,
   "metadata": {},
   "outputs": [],
   "source": []
  }
 ],
 "metadata": {
  "kernelspec": {
   "display_name": "Python 3",
   "language": "python",
   "name": "python3"
  },
  "language_info": {
   "codemirror_mode": {
    "name": "ipython",
    "version": 3
   },
   "file_extension": ".py",
   "mimetype": "text/x-python",
   "name": "python",
   "nbconvert_exporter": "python",
   "pygments_lexer": "ipython3",
   "version": "3.8.3"
  }
 },
 "nbformat": 4,
 "nbformat_minor": 4
}
