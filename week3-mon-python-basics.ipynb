{
 "cells": [
  {
   "cell_type": "markdown",
   "metadata": {},
   "source": [
    "# Welcome to Python!\n",
    "\n",
    "You can find out more about python via wikiepdia, but the short of it is that it's a lightweight programming language that's known for it's ease of use and a certain kind of elegance. Python is popular for scientific programming and for use in computation humanities and social sciences, where it's simplicity outweighs its mediocre performance (spend an hour coding and an hour running your code, not six hours coding and 5 minutes running your code!)\n",
    "\n",
    "Python is a scripting language, which mean that python programs (also called scripts, according to complicated factors like your current mood and the phase of ther moon) don't get \"compiled\" into things you run: instead, you use the python program itself to read your code and run it on the fly, which is fast and efficient for the kind of ad hoc work we'll be doing with it. You can also start python without a script to run, to get what's called a **python console** or **interpreter**, which will run code as you type it line by line, and which is especially handy for checking how things work as you develop whatever you're working on (or if you really need a calculator).\n",
    "\n",
    "## Jupyter\n",
    "What you're looking at right now is a jupyter notebook. Jupyter is a web-oriented way of sharing code (often but by no means always python) that's interactive and supports collaboration fairly well. Time-permitting, we'll return to jupyter at the end of the course, but for now you only need to know a few things: \n",
    "- the notebook is organized into cells, which you can run one at a time. That includes this formatted text you're reading now, although in this case the cell gets auto-run. (This is what's called a **markdown** cell, which is a quick-and-easy kind of formatting used for READMEs and other text files)\n",
    "- edit a cell by double clicking on it\n",
    "- to run a cell, click in it, then press shift + enter (also necessary if you want to recompile markdown into formatted text). \n",
    "- if a cell contains code, running it is pretty much the equivalent of typing the lines into a **python console** and pressing enter\n",
    "- if you run cells out of order and they depend on each other, things can get wonky. You can use the kernel menu at the top to relaunch the kernal and start over\n",
    "- note that the way that I'm sharing things, you can edit anything you want, but you won't be able to save your changes. This avoids you needing to install jupyter on your machine\n",
    "\n",
    "## Our first python\n",
    "In computer terms, putting text somewhere is usually called printing (a throwback to the days before computers had screens). It's a useful way to get started with python (or any other language), since it's hard to know what your code is doing if you don't have some kind of output. Try running this next cell now"
   ]
  },
  {
   "cell_type": "code",
   "execution_count": 1,
   "metadata": {},
   "outputs": [
    {
     "name": "stdout",
     "output_type": "stream",
     "text": [
      "Hello World\n"
     ]
    }
   ],
   "source": [
    "# this cell will print the text in parentheses in the next line\n",
    "print(\"Hello World\")"
   ]
  },
  {
   "cell_type": "markdown",
   "metadata": {},
   "source": [
    "Okay, let's note a few things: \n",
    "1. there's a line begining with a `#` that doesn't do anything. We call these lines **comments**. Everything after the `#` gets ignored, which is a good way to leave notes to yourself or another person who might read your code. Comments can be used to explain code that's hard to follow, leave notes for future updates, and so on. They can also 'block off' code you don't want to run but don't feel prepared to delete quite yet\n",
    "2. \"Hello World\" is in quotes in the code, but the quotes weren't printed. Just like the command line, quotes around text indicate that it's a string, and not a part of the code. \n",
    "\n",
    "If you uncomment the lines below by deleting the `#`, you can run the cell and see that python works with either single or double quotes"
   ]
  },
  {
   "cell_type": "code",
   "execution_count": 2,
   "metadata": {},
   "outputs": [],
   "source": [
    "#print(\"Python works with either kind of quotes around strings, which can be handy if your text includes 'words in quotes)\n",
    "#print('This line has \"double quotes\" in it, but it also prints just fine')"
   ]
  },
  {
   "cell_type": "markdown",
   "metadata": {},
   "source": [
    "## A bit of math\n",
    "If you're stuck for a calculator, you can always use python. Python supports common math operations, like `2 + 2`. Uncomment the following cells and see a couple of the details"
   ]
  },
  {
   "cell_type": "code",
   "execution_count": 3,
   "metadata": {},
   "outputs": [],
   "source": [
    "# 2 + 12"
   ]
  },
  {
   "cell_type": "markdown",
   "metadata": {},
   "source": [
    "Note that by convention and to make it easier to read, we put spaces on either side of math operators and similar symbols like `=`"
   ]
  },
  {
   "cell_type": "code",
   "execution_count": 4,
   "metadata": {},
   "outputs": [
    {
     "data": {
      "text/plain": [
       "14"
      ]
     },
     "execution_count": 4,
     "metadata": {},
     "output_type": "execute_result"
    }
   ],
   "source": [
    "#TODO: fix this next line and then run the cell\n",
    "2+4*3"
   ]
  },
  {
   "cell_type": "markdown",
   "metadata": {},
   "source": [
    "As you can see, python does order of operations correctly too. One thing to note is that python makes a distinction between integers and decimals (often called \"floats\" in this context). This matters a bit with division: "
   ]
  },
  {
   "cell_type": "code",
   "execution_count": 5,
   "metadata": {},
   "outputs": [
    {
     "name": "stdout",
     "output_type": "stream",
     "text": [
      "0.75\n",
      "0\n"
     ]
    }
   ],
   "source": [
    "print(3 / 4) # \"normal\" divison\n",
    "print(3 // 4) # integer divison; rounds down"
   ]
  },
  {
   "cell_type": "markdown",
   "metadata": {},
   "source": [
    "In general, try to use integers when you can; floats can behave a bit weirdly, since they're only approximations\n",
    "\n",
    "### String Math\n",
    "\n",
    "Strings don't really support math the same way that numbers do (quick! What's ('cat' - 'mouse' + 'dog')?) but they do support concatenation with `+`, which can be handy sometimes. Note, though, that there's nothing added where the strings get joined--try fixing the code below to compensate for this."
   ]
  },
  {
   "cell_type": "code",
   "execution_count": 1,
   "metadata": {},
   "outputs": [
    {
     "name": "stdout",
     "output_type": "stream",
     "text": [
      "Helloworld\n"
     ]
    }
   ],
   "source": [
    "print(\"Hello\" + \"world\")"
   ]
  },
  {
   "cell_type": "markdown",
   "metadata": {},
   "source": [
    "## Functions\n",
    "\n",
    "In python, printing things involves using this `print()` command, which is part of a (much) larger class of entities we call functions. Basically, functions take in some things (one, multiple, exactly 3, etc) and **do** something. We put these **arguments** in parentheses after the function name (like the string we want to print out), and we use those parentheses as a part of the name of the function so we know unambiguously that we're talking about a function.\n",
    "\n",
    "Often times, we use a function for its **return value**, which is something that it gives back to us when it's done, and which we can either use as a value, or store for later. Other times, a function might have **side effects** we care about, too. For example, we might write a function to count the words in a corpus of novels, which would **return** a list of word frequencies, but might print out the name of each novel as it read through them as a side effect. \n",
    "\n",
    "A simple (and useful) function to know about is `len()`, which returns the length of something, which for python means \"how many things does it contain.\" `len()` works on anything that has an ordered series of things making it up, which for python is a surprisingly large number of things. Importantly, `len()` works on strings"
   ]
  },
  {
   "cell_type": "code",
   "execution_count": 4,
   "metadata": {},
   "outputs": [
    {
     "data": {
      "text/plain": [
       "61"
      ]
     },
     "execution_count": 4,
     "metadata": {},
     "output_type": "execute_result"
    }
   ],
   "source": [
    "len(\"This string is too long to easily count the length of by hand\")"
   ]
  },
  {
   "cell_type": "markdown",
   "metadata": {},
   "source": [
    "Are you entertained yet? Probably not, but now you know how to count the number of characters in words (note that `len()` counts spaces, newlines, weird characters, etc, not just letters)\n",
    "\n",
    "We'll learn lots of other python functions this quarter, but before we do that, it makes sense to talk about ways to store things like the length of our string"
   ]
  },
  {
   "cell_type": "markdown",
   "metadata": {},
   "source": [
    "## Variables\n",
    "\n",
    "Okay, so we can see what our code does by printing things out, and we can do a bit of math. One of the things that makes a programming language more that just a calculator, though, is that we can keep things around and refer to them later.\n",
    "\n",
    "So, rather than having the value of our calculations vanish into thin air, we can **store** the value in a *variable*, which we do by putting the variable on the right-hand side of an equals sign. A variable is a name for something: a string, a number, a collection of data or something similar. It lets us refer back to the thing in an easy way.\n",
    "\n",
    "Variables are named with strings (which might just be one letter long), and which you get to choose—you *don't* put the name in quotes, though, which is how python knows it's part of your code, not some string you might want to print. We call the whole process **assigning** a variable. There are different ideas about how to name variables, but in general, they should be short and also legible. Prioritize the latter over the former. \n",
    "\n",
    "If you run the cell below, you can assign the results of our math to the variable `math_result`, which we can then print or further manipulate"
   ]
  },
  {
   "cell_type": "code",
   "execution_count": 7,
   "metadata": {},
   "outputs": [
    {
     "name": "stdout",
     "output_type": "stream",
     "text": [
      "30\n"
     ]
    }
   ],
   "source": [
    "math_result = (2 + 3) * 6 # assigns the result to math_result\n",
    "print(math_result)"
   ]
  },
  {
   "cell_type": "markdown",
   "metadata": {},
   "source": [
    "Note that unlike when we just wrote some math, we have to explicitly print the variable to see what we stored in it. In jupyter or an interactive python session, the end result of a calculation will get printed if there's nothing else to do with it, but here, that wasn't the case\n",
    "\n",
    "One more thing about variables: you have to assign something on the right of the equals sign to something on the left of it. The other way around doesn't work. Try this:"
   ]
  },
  {
   "cell_type": "code",
   "execution_count": 8,
   "metadata": {},
   "outputs": [
    {
     "ename": "SyntaxError",
     "evalue": "cannot assign to operator (<ipython-input-8-67b1314c6911>, line 1)",
     "output_type": "error",
     "traceback": [
      "\u001b[1;36m  File \u001b[1;32m\"<ipython-input-8-67b1314c6911>\"\u001b[1;36m, line \u001b[1;32m1\u001b[0m\n\u001b[1;33m    math_result * 2 + (8 / 4) = bad_var # this cell won't work\u001b[0m\n\u001b[1;37m    ^\u001b[0m\n\u001b[1;31mSyntaxError\u001b[0m\u001b[1;31m:\u001b[0m cannot assign to operator\n"
     ]
    }
   ],
   "source": [
    "math_result * 2 + (8 / 4) = bad_var # this cell won't work"
   ]
  },
  {
   "cell_type": "markdown",
   "metadata": {},
   "source": [
    "`bad_var` was, as expected, bad. Now, go back and fix it so that everything is on the correct sides of the equals sign. And, while you're at it, come up with a better name for `bad_var`"
   ]
  },
  {
   "cell_type": "markdown",
   "metadata": {},
   "source": [
    "Variables get us a bit closer to some useful python. At some point this quarter, you're going to write a program that will print *useful* messages to your user. Maybe you want to print the names of each of the texts you analyze, so you can make sure your program is working properly. Or you just want to print out the final results. Either way, you want to print something that changes, so you'll need a variable."
   ]
  },
  {
   "cell_type": "code",
   "execution_count": null,
   "metadata": {},
   "outputs": [],
   "source": [
    "# uncomment the next line to assign a variable\n",
    "# msg_today = '[write your message here]'\n",
    "print(\"Hello World\")\n",
    "print(\"Today's message is: \" + msg_today)"
   ]
  },
  {
   "cell_type": "markdown",
   "metadata": {},
   "source": [
    "There are a lot of different ways to print things, but one really useful way involves putting an `f` (for \"formatted\") in front of your string, which lets you put variables inside the string in curly braces (`{}`)"
   ]
  },
  {
   "cell_type": "code",
   "execution_count": 11,
   "metadata": {},
   "outputs": [
    {
     "name": "stdout",
     "output_type": "stream",
     "text": [
      "You have 3 new messages today\n"
     ]
    }
   ],
   "source": [
    "msg_count = 3\n",
    "print(f\"You have {msg_count} new messages today\")"
   ]
  },
  {
   "cell_type": "markdown",
   "metadata": {},
   "source": [
    "## Adding some options\n",
    "\n",
    "What happens if the `msg_count` is 1? You'll get something ungrammatical you can find all over the internet, where something that's usually plural edns up with a singular value and the context around it doesn't update accordingly. We can fix this problem by adding a branch to what's called the control flow of our program. Think of the code we've looked at so far as a flowchart. Up until now, our flowcharts have looked like this:\n",
    "\n",
    "`----> do thing ----> do next thing ----> do last thing`\n",
    "\n",
    "Well, sometimes, we want to have options. The most basic control flow tool is the if-statement. We check is something is true, and then if it is, we do something. Otherwise, we don't. The basic model looks like this:\n"
   ]
  },
  {
   "cell_type": "code",
   "execution_count": 12,
   "metadata": {},
   "outputs": [],
   "source": [
    "if msg_count == 1: # \"==\" means \"are these equal?\"; \"=\" means \"assign this to a variable\"\n",
    "    print(\"You have a new message\")\n",
    "# your new if-statement goes here"
   ]
  },
  {
   "cell_type": "markdown",
   "metadata": {},
   "source": [
    "Okay, great, but if you just ran that, it probably didn't do anything, since `msg_count` was probably not 1. If you go back and change `msg_count` to 1 (remember to re-run the cell with shift-enter), though, you can rerun the cell and print our new message from the cell above\n",
    "\n",
    "Of course, we might still want a notice if we had multiple messages. Add another if-statement to the code block above so that when msg_count is greater than 1, you get a message. \n",
    "\n",
    "A few things to note:\n",
    "- The if statement ends in a colon; you can't leave it out. \n",
    "- The indentation underneath is important. Some programming languages use brackets and braces to organize their code; python just uses whitespace. Usually, that means spaces, and typically, python editors are set up so when you press `tab` you actually get four spaces, not `\\t`. You should use four spaces for your indents in this class, even though what python cares about is actually just that all the indents are the same\n",
    "- anything indented under the if-statement will be run only if the condition is true\n",
    "\n",
    "The logical next step (our last for today) is the ELSE-statement. An else-statement goes after an if statement, and we only enter the else-statement if we skipped the if-statement because the condition wasn't true. For example:"
   ]
  },
  {
   "cell_type": "code",
   "execution_count": null,
   "metadata": {},
   "outputs": [],
   "source": [
    "day = \"Wednesday\"\n",
    "\n",
    "if day == (\"Saturday\" or \"Sunday\"):\n",
    "    print(\"Oh good, it's the weekend\")\n",
    "else:\n",
    "    print(\"Ugh, just a few more days\")"
   ]
  },
  {
   "cell_type": "markdown",
   "metadata": {},
   "source": [
    "(You can link together multiple if and else statements using structures like `else if...` but we won't for this course)\n",
    "\n",
    "One last note: when writing conditions like this, you **need** the parentheses. Otherwise, you get (if day is Saturday) OR (Sunday), and it turns out that in Python, things that aren't false are true, so Sunday is true, and we'll never figure out it's not the weekend"
   ]
  },
  {
   "cell_type": "code",
   "execution_count": null,
   "metadata": {},
   "outputs": [],
   "source": []
  }
 ],
 "metadata": {
  "kernelspec": {
   "display_name": "Python 3",
   "language": "python",
   "name": "python3"
  },
  "language_info": {
   "codemirror_mode": {
    "name": "ipython",
    "version": 3
   },
   "file_extension": ".py",
   "mimetype": "text/x-python",
   "name": "python",
   "nbconvert_exporter": "python",
   "pygments_lexer": "ipython3",
   "version": "3.8.3"
  }
 },
 "nbformat": 4,
 "nbformat_minor": 4
}
