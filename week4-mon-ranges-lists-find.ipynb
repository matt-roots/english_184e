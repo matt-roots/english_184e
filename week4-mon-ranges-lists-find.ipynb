{
 "cells": [
  {
   "cell_type": "markdown",
   "metadata": {},
   "source": [
    "# Ranges, more for-loops and finding things\n",
    "\n",
    "Let's pickup from the pre-lecture video, where we saw how lists are mutable, which lets us do things like this:"
   ]
  },
  {
   "cell_type": "code",
   "execution_count": 32,
   "metadata": {},
   "outputs": [
    {
     "name": "stdout",
     "output_type": "stream",
     "text": [
      "['It', 'is', 'a', 'truth', 'universally', 'acknowledged,', 'that', 'a', 'single', 'man', 'in', 'possession', 'of', 'a', 'good', 'fortune,', 'must', 'be', 'in', 'want', 'of', 'a', 'wife.']\n",
      "--------------------------\n",
      "['It', 'is', 'a', 'truth', 'universally', 'acknowledged,', 'that', 'a', 'single', 'man', 'in', 'possession', 'of', 'a', 'good', 'fortune,', 'must', 'be', 'in', 'want', 'of', 'a', 'husband.']\n",
      "['It', 'is', 'a', 'truth', 'universally', 'acknowledged,', 'that', 'a', 'single', 'man', 'in', 'possession', 'of', 'a', 'good', 'fortune,', 'must', 'be', 'in', 'want', 'of', 'several', 'cats.']\n"
     ]
    }
   ],
   "source": [
    "string = \"It is a truth universally acknowledged, that a single man in possession of a good fortune, must be in want of a wife.\"\n",
    "ls = string.split()\n",
    "print(ls)\n",
    "print('--------------------------')\n",
    "\n",
    "ls[-1] = \"husband.\"\n",
    "print(ls)\n",
    "covid_ls = string.split()\n",
    "covid_ls = covid_ls[:-2]\n",
    "covid_ls.extend(\"several cats.\".split())\n",
    "print(ls2)\n"
   ]
  },
  {
   "cell_type": "markdown",
   "metadata": {},
   "source": [
    "### A bit more on list mutability\n",
    "\n",
    "This brings us to an important side-note, which is that because lists can get pretty big, python doesn't like to copy them. Consider what happens with strings:"
   ]
  },
  {
   "cell_type": "code",
   "execution_count": 2,
   "metadata": {},
   "outputs": [
    {
     "name": "stdout",
     "output_type": "stream",
     "text": [
      "string1:\n",
      "I shall go back again to the bleak shore\n",
      "And build a little shanty on the sand,\n",
      "string2:\n",
      "I shall go back again to the bleak shore\n",
      "And build a little shanty on the sand,\n",
      "----------------\n",
      "string1:\n",
      "I shall go back again to the bleak shore\n",
      "And build a little shanty on the sand,\n",
      "string1:\n",
      "I shall go back again to the bleak shor\n",
      "----------------\n",
      "['I', 'shall', 'go', 'back', 'again', 'to', 'the', 'bleak', 'shore', 'And', 'build', 'a', 'little', 'shanty', 'on', 'the', 'sand,']\n",
      "['I', 'shall', 'go', 'back', 'again', 'to', 'the', 'bleak', 'shore', 'And', 'build', 'a', 'little', 'shanty', 'on', 'the', 'sand,']\n",
      "----------------\n"
     ]
    }
   ],
   "source": [
    "string = \"I shall go back again to the bleak shore\\nAnd build a little shanty on the sand,\"\n",
    "string2 = string\n",
    "print(\"string1:\\n\" + string)\n",
    "print(\"string2:\\n\" + string2)\n",
    "print('----------------')\n",
    "\n",
    "string2 = string2[:len(string2)//2]\n",
    "print(\"string1:\\n\" + string)\n",
    "print(\"string1:\\n\" + string2)\n",
    "print('----------------')\n",
    "\n",
    "ls = string.split()\n",
    "ls2 = ls\n",
    "print(ls)\n",
    "print(ls2)\n",
    "print('----------------')"
   ]
  },
  {
   "cell_type": "markdown",
   "metadata": {},
   "source": [
    "Now, you might be able to guess where this is going: what do you think will happen if we take our two new lists and try the same thing? Uncomment the lines below to check"
   ]
  },
  {
   "cell_type": "code",
   "execution_count": 3,
   "metadata": {},
   "outputs": [],
   "source": [
    "ls2[0] = 'You' \n",
    "# print(ls2)\n",
    "# print(ls)"
   ]
  },
  {
   "cell_type": "markdown",
   "metadata": {},
   "source": [
    "There are a few reasons for this, but basically what you need to know is this: python doesn't copy things like lists (a category that includes dictionaries, which we'll get to next week) when you assign them to a new varaible; instead it creates another reference to the same underlying structure. Sometimes, python will fork the list into two different entities; there are rules for when this happens but they're complex. What you should know instead is this: **assume that references to lists will be to the same underlying list**. If that's not going to work for you, you can use a function specific for this situation to make a new list:"
   ]
  },
  {
   "cell_type": "code",
   "execution_count": 4,
   "metadata": {},
   "outputs": [
    {
     "name": "stdout",
     "output_type": "stream",
     "text": [
      "['In', 'such', 'a', 'way', 'that', 'the', 'extremest', 'band', 'Of', 'brittle', 'seaweed', 'will', 'escape', 'my', 'door']\n",
      "['In', 'such', 'a', 'way', 'that', 'the', 'extremest', 'band', 'Of', 'brittle', 'seaweed', 'will', 'escape', 'my', 'door']\n",
      "----------------\n",
      "['In', 'such', 'a', 'way', 'that', 'the', 'extremest', 'band', 'Of', 'brittle', 'seaweed', 'will', 'escape', 'your', 'door']\n",
      "['In', 'such', 'a', 'way', 'that', 'the', 'extremest', 'band', 'Of', 'brittle', 'seaweed', 'will', 'escape', 'my', 'door']\n",
      "----------------\n"
     ]
    }
   ],
   "source": [
    "string3 =  'In such a way that the extremest band\\nOf brittle seaweed will escape my door'\n",
    "ls3 = string3.split()\n",
    "ls4 = ls3.copy()\n",
    "print(ls3)\n",
    "print(ls4)\n",
    "print('----------------')\n",
    "\n",
    "ls3[13] = 'your'\n",
    "print(ls3)\n",
    "print(ls4)\n",
    "print('----------------')"
   ]
  },
  {
   "cell_type": "code",
   "execution_count": 5,
   "metadata": {},
   "outputs": [
    {
     "name": "stdout",
     "output_type": "stream",
     "text": [
      "['But', 'by', 'a', 'yard', 'or', 'two;', 'and', 'nevermore']\n",
      "['word', 'word', 'word', 'word', 'word', 'word', 'word', 'word']\n"
     ]
    }
   ],
   "source": [
    "string = 'But by a yard or two; and nevermore'\n",
    "ls = string.split()\n",
    "print(ls)\n",
    "\n",
    "indices = [0, 1, 2]\n",
    "for i in range(len(ls)):\n",
    "    ls[i] = 'word'\n",
    "print(ls)"
   ]
  },
  {
   "cell_type": "markdown",
   "metadata": {},
   "source": [
    "## Ranges\n",
    "\n",
    "You got to experiment with this a bit on the homework, but you should know one or two other things about ranges in python. Basically, a range is a python way to specify, well, a range of numbers. A range is a specicial kind of thing, made with the `range()` function, and which we can loop over using a for-loop. A range isn't a list, however, which mostly matters if you try to print it, though you can wrap it in the aptly-named `list()` function to turn it into a list if you ever need to. Try adding a line to do that, and to print out the resulting list, below. "
   ]
  },
  {
   "cell_type": "code",
   "execution_count": 6,
   "metadata": {},
   "outputs": [
    {
     "name": "stdout",
     "output_type": "stream",
     "text": [
      "range(0, 10)\n"
     ]
    }
   ],
   "source": [
    "zero_to_nine = range(10)\n",
    "print(zero_to_nine)"
   ]
  },
  {
   "cell_type": "markdown",
   "metadata": {},
   "source": [
    "Mostly, this matters if you're trying to sort out the particular details of more complicated ranges. Like string slicing, ranges support the creation of less commonly useful sequences as well as consecutive numbers starting from zero. If you supply two numbers, the first becomes the start, and the second the stop. Add a third, and you get an interval, too. And by having a negative interval, you can go backwards. "
   ]
  },
  {
   "cell_type": "code",
   "execution_count": 7,
   "metadata": {},
   "outputs": [
    {
     "name": "stdout",
     "output_type": "stream",
     "text": [
      "[10, 11, 12, 13, 14, 15, 16, 17, 18, 19]\n",
      "[0, 5, 10, 15, 20, 25, 30, 35, 40, 45, 50, 55, 60, 65, 70, 75, 80, 85, 90, 95]\n"
     ]
    }
   ],
   "source": [
    "print(list(range(10, 20)))\n",
    "print(list(range(0, 100, 5))) # if you want an interval, you need a start point\n",
    "# print(list(range(100, 5))) # what will this do? "
   ]
  },
  {
   "cell_type": "markdown",
   "metadata": {},
   "source": [
    "It's good to know this stuff is possible, but what really matters is `for i in range(n)` where `i` is an index to a list. Usually, that's `range(len(ls))`, like in the homework, but if the length of the list is based off of something else, you might use that instead, to be clearer."
   ]
  },
  {
   "cell_type": "code",
   "execution_count": 8,
   "metadata": {},
   "outputs": [
    {
     "name": "stdout",
     "output_type": "stream",
     "text": [
      "title\n",
      "author\n",
      "date\n",
      "nwords\n",
      "filename\n"
     ]
    }
   ],
   "source": [
    "row = [\"title\", \"author\", \"date\", \"nwords\", \"filename\"]\n",
    "num_cols = len(row)\n",
    "\"\"\"\n",
    "<code ommitted here>\n",
    "\"\"\"\n",
    "for i in range(num_cols):\n",
    "    print(row[i])"
   ]
  },
  {
   "cell_type": "markdown",
   "metadata": {},
   "source": [
    "## Finding things\n",
    "\n",
    "Remember last week how I made a thing about off-by-one errors? That's about to come back. So far, we've covered various things that you can hopefully see if might be possibly to built the scaffolding for some kind of textual analysis out of: ways of looping over text, details about lists and strings, etc. We've got more of that to cover, but we're going to detour to python's string searching functions first, so that we can motivate some of our next few concepts with some more practical and literary examples. First, let's take a text. We'll use a sonnet, since poems are shorter than novels and it's helpful to be able to type it out in full. This one's by Edna St. Vincent Millay, and like everything she wrote, it's beautiful, austere and depressing. You can replace it with something more upbeat and the code should still work fine. "
   ]
  },
  {
   "cell_type": "code",
   "execution_count": 9,
   "metadata": {},
   "outputs": [
    {
     "name": "stdout",
     "output_type": "stream",
     "text": [
      "I shall go back again to the bleak shore\n",
      "And build a little shanty on the sand,\n",
      "In such a way that the extremest band\n",
      "Of brittle seaweed will escape my door\n",
      "But by a yard or two; and nevermore\n",
      "Shall I return to take you by the hand;\n",
      "I shall be gone to what I understand,\n",
      "And happier than I ever was before.\n",
      "The love that stood a moment in your eyes,\n",
      "The words that lay a moment on your tongue,\n",
      "Are one with all that in a moment dies,\n",
      "A little under-said and over-sung.\n",
      "But I shall find the sullen rocks and skies\n",
      "Unchanged from what they were when I was young.\n"
     ]
    }
   ],
   "source": [
    "sonnet = \"\"\"I shall go back again to the bleak shore\n",
    "And build a little shanty on the sand,\n",
    "In such a way that the extremest band\n",
    "Of brittle seaweed will escape my door\n",
    "But by a yard or two; and nevermore\n",
    "Shall I return to take you by the hand;\n",
    "I shall be gone to what I understand,\n",
    "And happier than I ever was before.\n",
    "The love that stood a moment in your eyes,\n",
    "The words that lay a moment on your tongue,\n",
    "Are one with all that in a moment dies,\n",
    "A little under-said and over-sung.\n",
    "But I shall find the sullen rocks and skies\n",
    "Unchanged from what they were when I was young.\"\"\"\n",
    "print(sonnet)"
   ]
  },
  {
   "cell_type": "markdown",
   "metadata": {},
   "source": [
    "My opinionated take is that people over-use this feature (and that for folks dealing with textual data, it's important to spend some time grappling with newlines), but if you wrap a string in triple quotes, python expects it to span multiple lines and treats its newlines as a part of the string you're creating, not a part of your code (the same goes for quotes in triple-quoted strings).\n",
    "\n",
    "You may notice that this sonnet, like some of its ilk, is a couple (3, in this case) of sentences long. Now, pretending this sonnet were longer, we might be interested in finding instances of a particular word. Say, \"seaweed\". Now, python has a few different ways to go about this. \n",
    "\n",
    "First of all, if you want to know if something is in something, with python, you just ask: "
   ]
  },
  {
   "cell_type": "code",
   "execution_count": 10,
   "metadata": {},
   "outputs": [
    {
     "name": "stdout",
     "output_type": "stream",
     "text": [
      "True\n",
      "False\n"
     ]
    }
   ],
   "source": [
    "print(\"seaweed\" in sonnet)\n",
    "print(\"minnow\" in sonnet)"
   ]
  },
  {
   "cell_type": "markdown",
   "metadata": {},
   "source": [
    "Eventually we'll get to feeding python regular expressions, but for now, just note that:"
   ]
  },
  {
   "cell_type": "code",
   "execution_count": 11,
   "metadata": {},
   "outputs": [
    {
     "data": {
      "text/plain": [
       "False"
      ]
     },
     "execution_count": 11,
     "metadata": {},
     "output_type": "execute_result"
    }
   ],
   "source": [
    "\"unchanged\" in sonnet"
   ]
  },
  {
   "cell_type": "markdown",
   "metadata": {},
   "source": [
    "But if we were working with *The Rime of the Ancient Mariner*, or *Corsons Inlet* or another longer poem, we might not just want to know `\"minnow\" in corsons_text`, but specifically where it shows up. Before uncommenting and running the following line, think about what sort of information you expect Python might return from a function like this? "
   ]
  },
  {
   "cell_type": "code",
   "execution_count": 12,
   "metadata": {},
   "outputs": [],
   "source": [
    "# sonnet.find('seaweed')"
   ]
  },
  {
   "cell_type": "markdown",
   "metadata": {},
   "source": [
    "Were you surprised? There's actually a lot we can do with this. You might start by printing out the word we just found (yes, it's redundant—we already know the word is \"seaweed\", but it's a good exercise). Don't just print out `\"seaweed\"`, though: slice it out of the whole string."
   ]
  },
  {
   "cell_type": "code",
   "execution_count": 26,
   "metadata": {},
   "outputs": [
    {
     "name": "stdout",
     "output_type": "stream",
     "text": [
      "\n"
     ]
    }
   ],
   "source": [
    "start = 0 # change these so the slice below prints \"seaweed\"\n",
    "end = 0\n",
    "print(sonnet[start:end])"
   ]
  },
  {
   "cell_type": "markdown",
   "metadata": {},
   "source": [
    "We can make find a bit more versatile if we know more about it's features. Like range, it lets us provide a few extra pieces of information. Specifically, we can provide a start, and if we provide a start, we can alo give a stop (if we provide neither, start is index 0, and stop is the end of the string). \n",
    "\n",
    "The stop isn't that useful; but the start is. Usually, the way that we use find like this is to search relative to some other location we've found with search. We'll talk about how to automate this next class, but for now, think about this:"
   ]
  },
  {
   "cell_type": "code",
   "execution_count": 24,
   "metadata": {},
   "outputs": [
    {
     "name": "stdout",
     "output_type": "stream",
     "text": [
      "305 305\n"
     ]
    }
   ],
   "source": [
    "per_1 = sonnet.find('.')\n",
    "per_2 = sonnet.find('.') # what else do you need to put in here to find the second period in the poem?\n",
    "print(per_1, per_2)"
   ]
  },
  {
   "cell_type": "markdown",
   "metadata": {},
   "source": [
    "Now that we've got the second period, we can use the locations of these two items to slice out whole sentences. Give it a try below, and note pay attention to the boundaries. "
   ]
  },
  {
   "cell_type": "code",
   "execution_count": 25,
   "metadata": {},
   "outputs": [
    {
     "name": "stdout",
     "output_type": "stream",
     "text": [
      "\n"
     ]
    }
   ],
   "source": [
    "start = 0 # change these so the slice below prints the poem's second sentence. You can ignore the newlines and they should print out fine (ie, work as though the string were one line)\n",
    "end = 0\n",
    "print(sonnet[start:end])"
   ]
  },
  {
   "cell_type": "markdown",
   "metadata": {},
   "source": [
    "Incidentally, what's the first character in the string you just printed out?\n",
    "\n",
    "Now, we just searched for periods in sequence, but it's worth thinking about our `\"seaweed\"` case too: supposed we wanted the first sentence that contains `\"seaweed\"`. We can search for the period *after*, but how can we find the period *before*? (Note that we're stuck looking for periods here—we'll sneak in some regular expressions in a few weeks so that we can deal with `?` and `!` as well). \n",
    "\n",
    "You might think that `find()` would have some weird syntax with negative numbers to go backwards, but actually, it doesn't. Instead, we use the closely related `rfind()` method. Remember how `find()` gives you the lowest index in the string that matches the substring we're searching for? `rfind()` gives you the highest (this isn't *exactly* searching from the left "
   ]
  },
  {
   "cell_type": "markdown",
   "metadata": {},
   "source": [
    "Okay, one last thing: next class, we'll cover how to do this efficiently using `find()` and a new structure called a `while` loop, but can you think of how we might use a range-based for loop to get all the indices for periods in the poem? We won't need find for this; we can just loop over the characters one by one"
   ]
  },
  {
   "cell_type": "code",
   "execution_count": 29,
   "metadata": {},
   "outputs": [],
   "source": [
    "# your for-loop to print the indices of all the '.' in string\n",
    "\n",
    "for i in range(0):\n",
    "    pass"
   ]
  },
  {
   "cell_type": "code",
   "execution_count": null,
   "metadata": {},
   "outputs": [],
   "source": []
  }
 ],
 "metadata": {
  "kernelspec": {
   "display_name": "Python 3",
   "language": "python",
   "name": "python3"
  },
  "language_info": {
   "codemirror_mode": {
    "name": "ipython",
    "version": 3
   },
   "file_extension": ".py",
   "mimetype": "text/x-python",
   "name": "python",
   "nbconvert_exporter": "python",
   "pygments_lexer": "ipython3",
   "version": "3.8.3"
  }
 },
 "nbformat": 4,
 "nbformat_minor": 4
}
