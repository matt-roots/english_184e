{
 "cells": [
  {
   "cell_type": "markdown",
   "metadata": {},
   "source": [
    "# Dictionaries\n",
    "\n",
    "Today we're going to talk about what python unfortunately calls the \"dictionary.\" (Unfortunate because in this class we also often use a kind of dictionary you're probably more familiar with: a long list of words (ours usually exclude definitions)). \n",
    "\n",
    "Python's idea of a dictionary takes the basic idea: words in alphabetic order matched to definitions, and broadens it into a general structure for storing information. If that seems confusing, think about this list, which is the same kind of thing (a *data structure*): a list stores records in an order. Imagine a stack of folders. To access one of them, you can do one of two things: you might know that the folder you want is 12th from the top, and go directly there, or you can go through the whole pile checking each one. \n",
    "\n",
    "We haven't covered how to actually search a list (but it works very similar to for a string), because in practice, the only time you want to go through every folder in the pile is if you need to look at each one anyhow. For example, if I printed out everyone's homework to grade (don't worry, I don't), I could put them all in a pile and grade them all as they come, because everyone needs a grade and it doesn't really matter what order they're in. But if I wanted to grade everyone's in alphabetic order, it would be tedious to go through the whole pile each time. \n",
    "\n",
    "Python's dictionary is based on the idea that if you need to be able to access particular items, you need a way to know, without looking at all the items, where the item is going to be in your pile. Consider the dictionary. If I want to find the entry for \"interpretation\", I don't start at the begining—I can go to roughly the middle, check if \"i\" is before or after where I'm at, split the remaining chunk of pages roughly in half, and repeat. This is a pretty fast way of finding things but it requires that everything be stored under a name that can be ordered. If I'm flipping through an old-fashioned paper agenda, fopr example, looking for Feb 11, and I'm on a page that starts with March 1, I know I'm a few weeks too far, and I can skip backwards a few weeks—if I overshoot and land on Feb 1, I still know that the week I'm looking for is somewhere in between, and I never have to look at the January pages. \n",
    "\n",
    "Python's dictionaries aren't actually based on ordering the items in them, but rather on doing a bit of fancy math to turn a **key** into a unique location where a **value** can be kept. This is so that instead of having to divide up the dictionary a few times to find the item it's looking for, python can instead just do it's math to figure out exactly where in its list of items the right value is stored. \n",
    "\n",
    "If we wanted to put a real dictionary inside a python dictionary, this would still work: we'd use each word in the dictionary as the **key**, and python would use each word to store our **value**, the definition, in a place where it can easily be retrieved. "
   ]
  },
  {
   "cell_type": "code",
   "execution_count": 3,
   "metadata": {},
   "outputs": [
    {
     "name": "stdout",
     "output_type": "stream",
     "text": [
      "{'state1': 'washington', 'state2': 'oregon', 'state3': 'california'}\n"
     ]
    }
   ],
   "source": [
    "# list\n",
    "states = [\"washington\", \"oregon\", \"california\"]\n",
    "\n",
    "states_dict = {\"state1\" : \"washington\", \"state2\" : \"oregon\", \"state3\" : \"california\"}\n",
    "print(states_dict)"
   ]
  },
  {
   "cell_type": "markdown",
   "metadata": {},
   "source": [
    "This is a terrible dictionary! If you want to store things in order, you should just use a list. Or, if you just need to store a, well, *list* of states, you should... use a *list*. \n",
    "\n",
    "The dictionary really comes into its own when you have a bunch on information that's logically partitioned into pairs:"
   ]
  },
  {
   "cell_type": "code",
   "execution_count": 4,
   "metadata": {},
   "outputs": [
    {
     "name": "stdout",
     "output_type": "stream",
     "text": [
      "{'washington': 'olympia', 'oregon': 'portland', 'california': 'sacramento'}\n"
     ]
    }
   ],
   "source": [
    "state_capitols = {'washington' : 'olympia', 'oregon' : 'portland', 'california' : 'sacramento'}\n",
    "print(state_capitols)"
   ]
  },
  {
   "cell_type": "markdown",
   "metadata": {},
   "source": [
    "You might object that Portland is not, in fact, the capitol of Orgeon (true facts I learned putting these notes together). Thankfully, we can fix this. "
   ]
  },
  {
   "cell_type": "code",
   "execution_count": 14,
   "metadata": {},
   "outputs": [
    {
     "name": "stdout",
     "output_type": "stream",
     "text": [
      "{'washington': 'olympia', 'oregon': 'salem', 'california': 'sacramento'}\n"
     ]
    }
   ],
   "source": [
    "state_capitols['oregon'] = 'salem'\n",
    "print(state_capitols)"
   ]
  },
  {
   "cell_type": "markdown",
   "metadata": {},
   "source": [
    "We can access and modify the items in a dictionary by their keys, and we can use this structure to add to the dictionary as well: "
   ]
  },
  {
   "cell_type": "code",
   "execution_count": 15,
   "metadata": {},
   "outputs": [
    {
     "name": "stdout",
     "output_type": "stream",
     "text": [
      "{'washington': 'olympia', 'oregon': 'salem', 'california': 'sacramento', 'massachusets': 'boston'}\n"
     ]
    }
   ],
   "source": [
    "state_capitols['massachusets'] = 'boston'\n",
    "print(state_capitols)"
   ]
  },
  {
   "cell_type": "markdown",
   "metadata": {},
   "source": [
    "More true facts: I lived in MA for 4 years and still can't spell the name of the state. Unfortunately, we can't fix this one so easily. The keys of a dictionary are **immutable**, which also means they can't be lists or other dictionaries. Think of the key like an address. You can't just change the address of your appartment. You can move, of course, and maybe your old place will sit empty, but you can't just declare that 22b Baker Street is suddenly going to 41a West Maple St. We can still fix this, it's just a bit more complicated"
   ]
  },
  {
   "cell_type": "code",
   "execution_count": 16,
   "metadata": {},
   "outputs": [
    {
     "name": "stdout",
     "output_type": "stream",
     "text": [
      "{'washington': 'olympia', 'oregon': 'salem', 'california': 'sacramento'}\n"
     ]
    }
   ],
   "source": [
    "del state_capitols['massachusets'] # you will probably never have to actually do this\n",
    "print(state_capitols)"
   ]
  },
  {
   "cell_type": "markdown",
   "metadata": {},
   "source": [
    "One last thing about dictionaries for today. Try running the cell above again. What happens?\n",
    "\n",
    "It's a bit like making a list of all the letters in the roman alphabet and asking for `alphabet[34]`—there's no such letter and python will tell you so."
   ]
  },
  {
   "cell_type": "markdown",
   "metadata": {},
   "source": [
    "# the nine billion names of god"
   ]
  },
  {
   "cell_type": "code",
   "execution_count": null,
   "metadata": {},
   "outputs": [],
   "source": []
  },
  {
   "cell_type": "code",
   "execution_count": 2,
   "metadata": {},
   "outputs": [
    {
     "name": "stdout",
     "output_type": "stream",
     "text": [
      "♜♜♜\n",
      "♜♜♞\n",
      "♜♜♝\n",
      "♜♜♛\n",
      "♜♜♚\n",
      "♜♞♜\n",
      "♜♞♞\n",
      "♜♞♝\n",
      "♜♞♛\n",
      "♜♞♚\n",
      "♜♝♜\n",
      "♜♝♞\n",
      "♜♝♝\n",
      "♜♝♛\n",
      "♜♝♚\n",
      "♜♛♜\n",
      "♜♛♞\n",
      "♜♛♝\n",
      "♜♛♛\n",
      "♜♛♚\n",
      "♜♚♜\n",
      "♜♚♞\n",
      "♜♚♝\n",
      "♜♚♛\n",
      "♜♚♚\n",
      "♞♜♜\n",
      "♞♜♞\n",
      "♞♜♝\n",
      "♞♜♛\n",
      "♞♜♚\n",
      "♞♞♜\n",
      "♞♞♞\n",
      "♞♞♝\n",
      "♞♞♛\n",
      "♞♞♚\n",
      "♞♝♜\n",
      "♞♝♞\n",
      "♞♝♝\n",
      "♞♝♛\n",
      "♞♝♚\n",
      "♞♛♜\n",
      "♞♛♞\n",
      "♞♛♝\n",
      "♞♛♛\n",
      "♞♛♚\n",
      "♞♚♜\n",
      "♞♚♞\n",
      "♞♚♝\n",
      "♞♚♛\n",
      "♞♚♚\n",
      "♝♜♜\n",
      "♝♜♞\n",
      "♝♜♝\n",
      "♝♜♛\n",
      "♝♜♚\n",
      "♝♞♜\n",
      "♝♞♞\n",
      "♝♞♝\n",
      "♝♞♛\n",
      "♝♞♚\n",
      "♝♝♜\n",
      "♝♝♞\n",
      "♝♝♝\n",
      "♝♝♛\n",
      "♝♝♚\n",
      "♝♛♜\n",
      "♝♛♞\n",
      "♝♛♝\n",
      "♝♛♛\n",
      "♝♛♚\n",
      "♝♚♜\n",
      "♝♚♞\n",
      "♝♚♝\n",
      "♝♚♛\n",
      "♝♚♚\n",
      "♛♜♜\n",
      "♛♜♞\n",
      "♛♜♝\n",
      "♛♜♛\n",
      "♛♜♚\n",
      "♛♞♜\n",
      "♛♞♞\n",
      "♛♞♝\n",
      "♛♞♛\n",
      "♛♞♚\n",
      "♛♝♜\n",
      "♛♝♞\n",
      "♛♝♝\n",
      "♛♝♛\n",
      "♛♝♚\n",
      "♛♛♜\n",
      "♛♛♞\n",
      "♛♛♝\n",
      "♛♛♛\n",
      "♛♛♚\n",
      "♛♚♜\n",
      "♛♚♞\n",
      "♛♚♝\n",
      "♛♚♛\n",
      "♛♚♚\n",
      "♚♜♜\n",
      "♚♜♞\n",
      "♚♜♝\n",
      "♚♜♛\n",
      "♚♜♚\n",
      "♚♞♜\n",
      "♚♞♞\n",
      "♚♞♝\n",
      "♚♞♛\n",
      "♚♞♚\n",
      "♚♝♜\n",
      "♚♝♞\n",
      "♚♝♝\n",
      "♚♝♛\n",
      "♚♝♚\n",
      "♚♛♜\n",
      "♚♛♞\n",
      "♚♛♝\n",
      "♚♛♛\n",
      "♚♛♚\n",
      "♚♚♜\n",
      "♚♚♞\n",
      "♚♚♝\n",
      "♚♚♛\n",
      "♚♚♚\n"
     ]
    }
   ],
   "source": [
    "def write_names(alphabet, name, max_len):\n",
    "    for letter in alphabet:\n",
    "        cur_name = name + letter\n",
    "        if len(name) == max_len:\n",
    "            print(name)\n",
    "            return\n",
    "        else: \n",
    "            write_names(alphabet, cur_name, max_len)\n",
    "            \n",
    "write_names(\"♜♞♝♛♚\", '', 3)\n"
   ]
  },
  {
   "cell_type": "code",
   "execution_count": null,
   "metadata": {},
   "outputs": [],
   "source": []
  }
 ],
 "metadata": {
  "kernelspec": {
   "display_name": "Python 3",
   "language": "python",
   "name": "python3"
  },
  "language_info": {
   "codemirror_mode": {
    "name": "ipython",
    "version": 3
   },
   "file_extension": ".py",
   "mimetype": "text/x-python",
   "name": "python",
   "nbconvert_exporter": "python",
   "pygments_lexer": "ipython3",
   "version": "3.8.3"
  }
 },
 "nbformat": 4,
 "nbformat_minor": 4
}
