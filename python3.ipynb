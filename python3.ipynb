{
 "cells": [
  {
   "cell_type": "markdown",
   "id": "antique-accent",
   "metadata": {},
   "source": [
    "# More on Lists\n",
    "\n",
    "Last week, we introduced lists as a way to give ourselves some useful structures to loop over, in case we weren't a fan of python's chracter-by-character itteration over strings. We'll be using lists over and over again this quarter, and to make that happen, we'll need to introduce one or two more features and functions.\n",
    "\n",
    "## More on lists\n",
    "\n",
    "Remember how strings and integers are immutable? "
   ]
  },
  {
   "cell_type": "code",
   "execution_count": 8,
   "id": "potential-fountain",
   "metadata": {},
   "outputs": [
    {
     "name": "stdout",
     "output_type": "stream",
     "text": [
      "m\n"
     ]
    },
    {
     "ename": "TypeError",
     "evalue": "'str' object does not support item assignment",
     "output_type": "error",
     "traceback": [
      "\u001b[1;31m---------------------------------------------------------------------------\u001b[0m",
      "\u001b[1;31mTypeError\u001b[0m                                 Traceback (most recent call last)",
      "\u001b[1;32m<ipython-input-8-9b95b8c3c1b8>\u001b[0m in \u001b[0;36m<module>\u001b[1;34m\u001b[0m\n\u001b[0;32m      1\u001b[0m \u001b[0mstring\u001b[0m \u001b[1;33m=\u001b[0m \u001b[1;34m\"my string\"\u001b[0m\u001b[1;33m\u001b[0m\u001b[1;33m\u001b[0m\u001b[0m\n\u001b[0;32m      2\u001b[0m \u001b[0mprint\u001b[0m\u001b[1;33m(\u001b[0m\u001b[0mstring\u001b[0m\u001b[1;33m[\u001b[0m\u001b[1;36m0\u001b[0m\u001b[1;33m]\u001b[0m\u001b[1;33m)\u001b[0m\u001b[1;33m\u001b[0m\u001b[1;33m\u001b[0m\u001b[0m\n\u001b[1;32m----> 3\u001b[1;33m \u001b[0mstring\u001b[0m\u001b[1;33m[\u001b[0m\u001b[1;36m0\u001b[0m\u001b[1;33m]\u001b[0m \u001b[1;33m=\u001b[0m \u001b[1;34m'M'\u001b[0m \u001b[1;31m# this doesn't work\u001b[0m\u001b[1;33m\u001b[0m\u001b[1;33m\u001b[0m\u001b[0m\n\u001b[0m",
      "\u001b[1;31mTypeError\u001b[0m: 'str' object does not support item assignment"
     ]
    }
   ],
   "source": [
    "string = \"my string\"\n",
    "print(string[0])\n",
    "string[0] = 'M' # this doesn't work"
   ]
  },
  {
   "cell_type": "markdown",
   "id": "unique-liability",
   "metadata": {},
   "source": [
    "We get an error when we try to change the string in any way, which is why instead we dodge around the problem by reassigning the variable name \"string\" to a new string:"
   ]
  },
  {
   "cell_type": "code",
   "execution_count": 9,
   "id": "frank-indianapolis",
   "metadata": {},
   "outputs": [
    {
     "name": "stdout",
     "output_type": "stream",
     "text": [
      "my string\n",
      "new string\n"
     ]
    }
   ],
   "source": [
    "string = \"my string\"\n",
    "print(string)\n",
    "string = \"new string\"\n",
    "print(string)"
   ]
  },
  {
   "cell_type": "markdown",
   "id": "national-chemical",
   "metadata": {},
   "source": [
    "You might remember that that led to this pattern:"
   ]
  },
  {
   "cell_type": "code",
   "execution_count": 11,
   "id": "australian-lodging",
   "metadata": {},
   "outputs": [
    {
     "name": "stdout",
     "output_type": "stream",
     "text": [
      "g\n"
     ]
    }
   ],
   "source": [
    "result = ''\n",
    "for char in string:\n",
    "    result += char.upper()\n",
    "print(char)"
   ]
  },
  {
   "cell_type": "markdown",
   "id": "mental-invitation",
   "metadata": {},
   "source": [
    "Note that `x += y` is a shorter way of writing `x = x + y`. This is a really common pattern in coding, either with strings like this, or often something like `count += 1` in a loop (take count and set it equal to the current value of count, plus one. You can write out the whole thing yourself if you like, but you should be able to know and recognize this strucutre in other people's code\n",
    "\n",
    "Back to what we just did: we started by making an empty string and assigning it to the varaible `result`. Then, we looped over `string`, and for every character, we took `result`, and assigned it to a new string, which we made up of the old string `result` plus the uppercase version of the character from `string`\n",
    "\n",
    "Because we made `result` *outside* of the loop, we don't overwrite it every time we go through the loop, so each time, our string gets longer. You can add a line to the code above to print it out and see for yourself. \n",
    "\n",
    "Incidentally, if you print out `char` you'll see that it's not actually true that you can't access the loop's variable from after the loop (though you generally shouldn't). Give it a try, and think about why `char` has the value it does."
   ]
  },
  {
   "cell_type": "markdown",
   "id": "revised-skiing",
   "metadata": {},
   "source": [
    "## Adding to lists\n",
    "\n",
    "Now, you might want to do something similar with a list. Suppose you wanted to loop over some text, and pull out all of the words that passed a certain test. Let's say words that contain punctuation (we're assuming, as python does, that \"said,\" is a five-\"letter\" \"word\" ending in a comma). You might try this:"
   ]
  },
  {
   "cell_type": "code",
   "execution_count": 12,
   "id": "arabic-bonus",
   "metadata": {},
   "outputs": [
    {
     "name": "stdout",
     "output_type": "stream",
     "text": [
      "['When', 'day', 'comes', 'we', 'ask', 'ourselves,', 'where', 'can', 'we', 'find', 'light', 'in', 'this', 'never-ending', 'shade?']\n"
     ]
    }
   ],
   "source": [
    "string = \"When day comes we ask ourselves,\\nwhere can we find light in this never-ending shade?\"\n",
    "word_ls = string.split()\n",
    "print(word_ls)"
   ]
  },
  {
   "cell_type": "code",
   "execution_count": 16,
   "id": "alternate-differential",
   "metadata": {},
   "outputs": [
    {
     "ename": "TypeError",
     "evalue": "can only concatenate list (not \"str\") to list",
     "output_type": "error",
     "traceback": [
      "\u001b[1;31m---------------------------------------------------------------------------\u001b[0m",
      "\u001b[1;31mTypeError\u001b[0m                                 Traceback (most recent call last)",
      "\u001b[1;32m<ipython-input-16-6b22d2ecd742>\u001b[0m in \u001b[0;36m<module>\u001b[1;34m\u001b[0m\n\u001b[0;32m      2\u001b[0m \u001b[1;32mfor\u001b[0m \u001b[0mword\u001b[0m \u001b[1;32min\u001b[0m \u001b[0mword_ls\u001b[0m\u001b[1;33m:\u001b[0m\u001b[1;33m\u001b[0m\u001b[1;33m\u001b[0m\u001b[0m\n\u001b[0;32m      3\u001b[0m     \u001b[1;32mif\u001b[0m \u001b[1;32mnot\u001b[0m \u001b[0mword\u001b[0m\u001b[1;33m.\u001b[0m\u001b[0misalnum\u001b[0m\u001b[1;33m(\u001b[0m\u001b[1;33m)\u001b[0m\u001b[1;33m:\u001b[0m\u001b[1;33m\u001b[0m\u001b[1;33m\u001b[0m\u001b[0m\n\u001b[1;32m----> 4\u001b[1;33m         \u001b[0mpunctuated_words\u001b[0m \u001b[1;33m=\u001b[0m \u001b[0mpunctuated_words\u001b[0m \u001b[1;33m+\u001b[0m \u001b[0mword\u001b[0m\u001b[1;33m\u001b[0m\u001b[1;33m\u001b[0m\u001b[0m\n\u001b[0m\u001b[0;32m      5\u001b[0m \u001b[0mprint\u001b[0m\u001b[1;33m(\u001b[0m\u001b[0mpunctuated_words\u001b[0m\u001b[1;33m)\u001b[0m\u001b[1;33m\u001b[0m\u001b[1;33m\u001b[0m\u001b[0m\n",
      "\u001b[1;31mTypeError\u001b[0m: can only concatenate list (not \"str\") to list"
     ]
    }
   ],
   "source": [
    "punctuated_words = [] # an empty list\n",
    "for word in word_ls:\n",
    "    if not word.isalnum():\n",
    "        punctuated_words = punctuated_words + word\n",
    "print(punctuated_words)"
   ]
  },
  {
   "cell_type": "markdown",
   "id": "separate-dressing",
   "metadata": {},
   "source": [
    "(Incidentally, if you try to use the shorthand += here, python will panic and do something a bit different and almost certainly useless)\n",
    "\n",
    "We can add lists together, as the error message suggests (example below) but it's not too useful. Instead, we usually want to add non-lists to the end of lists. \"Put this word on the end of the list of words we're keeping track of.\" To do this, we take advantage of the fact that unlike strings, lists are **not** immutable. We can change them around even after we make them:"
   ]
  },
  {
   "cell_type": "code",
   "execution_count": 23,
   "id": "manufactured-algeria",
   "metadata": {},
   "outputs": [
    {
     "name": "stdout",
     "output_type": "stream",
     "text": [
      "[1, 2, 3] [-1, -2, -3]\n",
      "[1, 2, 3, -1, -2, -3]\n",
      "[1, 99, 3]\n"
     ]
    }
   ],
   "source": [
    "ls1 = [1, 2, 3]\n",
    "ls2 = [-1, -2, -3]\n",
    "print(ls1, ls2) # nifty way to print multiple things\n",
    "print(ls1 + ls2) # concatenating lists; seldom useful\n",
    "\n",
    "ls1[1] = 99\n",
    "print(ls1)"
   ]
  },
  {
   "cell_type": "markdown",
   "id": "entertaining-quarterly",
   "metadata": {},
   "source": [
    "In-place modification works great if, you know, you want to modify things in place. But we were trying to add to the end of the list! And if you try adding to the list by assigning `ls1[3] = 4` you'll find it's not very effective---give it a shot in the cell above\n",
    "\n",
    "Instead, we want to make the list longer by one, and then assign the newly created item at the end of the list to be our word. We can do this using the `list.append()` method. Like our string methods, we use the `.method()` syntax:"
   ]
  },
  {
   "cell_type": "code",
   "execution_count": 27,
   "id": "established-burns",
   "metadata": {},
   "outputs": [
    {
     "name": "stdout",
     "output_type": "stream",
     "text": [
      "['ourselves,', 'never-ending', 'shade?']\n"
     ]
    }
   ],
   "source": [
    "punctuated_words = [] # an empty list\n",
    "for word in word_ls:\n",
    "    if not word.isalnum():\n",
    "        punctuated_words.append(word)\n",
    "print(punctuated_words)"
   ]
  },
  {
   "cell_type": "markdown",
   "id": "cardiac-meeting",
   "metadata": {},
   "source": [
    "## Recap\n",
    "\n",
    "So what did we learn? Two important things:\n",
    "1. Lists are mutable. You can use slicing to access elements and change them. We'll do more of this soon, but we'll want to know a bit more about loops first\n",
    "2. When we build lists up from an empty list, one element at a time, we use `ls.append(new_item)`"
   ]
  },
  {
   "cell_type": "code",
   "execution_count": null,
   "id": "celtic-ocean",
   "metadata": {},
   "outputs": [],
   "source": []
  }
 ],
 "metadata": {
  "kernelspec": {
   "display_name": "Python 3",
   "language": "python",
   "name": "python3"
  },
  "language_info": {
   "codemirror_mode": {
    "name": "ipython",
    "version": 3
   },
   "file_extension": ".py",
   "mimetype": "text/x-python",
   "name": "python",
   "nbconvert_exporter": "python",
   "pygments_lexer": "ipython3",
   "version": "3.8.2"
  }
 },
 "nbformat": 4,
 "nbformat_minor": 5
}
