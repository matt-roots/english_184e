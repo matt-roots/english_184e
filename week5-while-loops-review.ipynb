{
 "cells": [
  {
   "cell_type": "markdown",
   "metadata": {},
   "source": [
    "# while loops redux\n",
    "\n",
    "Let's return to the example from class on Wednesday, explore why it wasn't working, and then get it going so we can parse the poem into lines."
   ]
  },
  {
   "cell_type": "code",
   "execution_count": 1,
   "metadata": {},
   "outputs": [],
   "source": [
    "weary_blues = \"\"\"Droning a drowsy syncopated tune,\n",
    "Rocking back and forth to a mellow croon,\n",
    "I heard a Negro play.\n",
    "Down on Lenox Avenue the other night\n",
    "By the pale dull pallor of an old gas light\n",
    "He did a lazy sway. . . .\n",
    "He did a lazy sway. . . .\n",
    "To the tune o’ those Weary Blues.\n",
    "With his ebony hands on each ivory key\n",
    "He made that poor piano moan with melody.\n",
    "O Blues!\n",
    "Swaying to and fro on his rickety stool\n",
    "He played that sad raggy tune like a musical fool.\n",
    "Sweet Blues!\n",
    "Coming from a black man’s soul.\n",
    "O Blues!\n",
    "In a deep song voice with a melancholy tone\n",
    "I heard that Negro sing, that old piano moan—\n",
    "“Ain’t got nobody in all this world,\n",
    "Ain’t got nobody but ma self.\n",
    "I’s gwine to quit ma frownin’\n",
    "And put ma troubles on the shelf.”\"\"\""
   ]
  },
  {
   "cell_type": "code",
   "execution_count": 3,
   "metadata": {},
   "outputs": [
    {
     "data": {
      "text/plain": [
       "[33,\n",
       " 75,\n",
       " 97,\n",
       " 134,\n",
       " 178,\n",
       " 204,\n",
       " 230,\n",
       " 264,\n",
       " 303,\n",
       " 345,\n",
       " 354,\n",
       " 394,\n",
       " 445,\n",
       " 458,\n",
       " 490,\n",
       " 499,\n",
       " 543,\n",
       " 589,\n",
       " 626,\n",
       " 656,\n",
       " 686]"
      ]
     },
     "execution_count": 3,
     "metadata": {},
     "output_type": "execute_result"
    }
   ],
   "source": [
    "def find_newlines(s):\n",
    "    index = 0\n",
    "    newlines = []\n",
    "    while (index < len(s)):\n",
    "        newline = s.find('\\n', index + 1)\n",
    "        # print(newline)\n",
    "        if newline > 0:\n",
    "            newlines.append(newline)\n",
    "            index = newline\n",
    "        else:\n",
    "            break\n",
    "    return newlines\n",
    "find_newlines(weary_blues)"
   ]
  },
  {
   "cell_type": "code",
   "execution_count": 8,
   "metadata": {},
   "outputs": [
    {
     "data": {
      "text/plain": [
       "['Droning a drowsy syncopated tune,',\n",
       " 'Rocking back and forth to a mellow croon,',\n",
       " 'I heard a Negro play.',\n",
       " 'Down on Lenox Avenue the other night',\n",
       " 'By the pale dull pallor of an old gas light',\n",
       " 'He did a lazy sway. . . .',\n",
       " 'He did a lazy sway. . . .',\n",
       " 'To the tune o’ those Weary Blues.',\n",
       " 'With his ebony hands on each ivory key',\n",
       " 'He made that poor piano moan with melody.',\n",
       " 'O Blues!',\n",
       " 'Swaying to and fro on his rickety stool',\n",
       " 'He played that sad raggy tune like a musical fool.',\n",
       " 'Sweet Blues!',\n",
       " 'Coming from a black man’s soul.',\n",
       " 'O Blues!',\n",
       " 'In a deep song voice with a melancholy tone',\n",
       " 'I heard that Negro sing, that old piano moan—',\n",
       " '“Ain’t got nobody in all this world,',\n",
       " 'Ain’t got nobody but ma self.',\n",
       " 'I’s gwine to quit ma frownin’',\n",
       " 'And put ma troubles on the shelf.”']"
      ]
     },
     "execution_count": 8,
     "metadata": {},
     "output_type": "execute_result"
    }
   ],
   "source": [
    "def find_all_lines(s):\n",
    "    lines = []\n",
    "    line_start = 0\n",
    "    line_end = 0\n",
    "    while (line_start < len(s)):\n",
    "        line_end = s.find('\\n', line_start)\n",
    "        if line_end == -1:\n",
    "            lines.append(s[line_start:len(s)])\n",
    "            break\n",
    "        lines.append(s[line_start:line_end])\n",
    "        line_start = line_end + 1\n",
    "    return lines\n",
    "find_all_lines(weary_blues)"
   ]
  },
  {
   "cell_type": "code",
   "execution_count": null,
   "metadata": {},
   "outputs": [],
   "source": []
  }
 ],
 "metadata": {
  "kernelspec": {
   "display_name": "Python 3",
   "language": "python",
   "name": "python3"
  },
  "language_info": {
   "codemirror_mode": {
    "name": "ipython",
    "version": 3
   },
   "file_extension": ".py",
   "mimetype": "text/x-python",
   "name": "python",
   "nbconvert_exporter": "python",
   "pygments_lexer": "ipython3",
   "version": "3.8.3"
  }
 },
 "nbformat": 4,
 "nbformat_minor": 4
}
