{
 "cells": [
  {
   "cell_type": "markdown",
   "metadata": {},
   "source": [
    "# more on conditions and loops\n",
    "\n",
    "In this class, we're going to return to the 'in' keyword in a bit more detail, since you'll need it for HW4, and then spend our time discussing a new way of looping through texts.\n",
    "\n",
    "#### `in`, revisited\n",
    "\n",
    "It's often the case that we want to check the presence of something in a text or list of strings. We might, for example, want to know which of our novels contains a particular word or one of several words, as an index to which of very many novels to subject to further analysis. Or, we might have run some kind of analysis on many novels, and want to filter the results for only the examples that match certain criteria. \n",
    "\n",
    "In general in Python, we test for the presence or absence of something with the 'in' keyword. It's usually possible to do this work \"by hand\" by looping over the search domain and asking \"item == search_term\" but in accordance with the principle of not doing ourselves what Python already does, we prefer not to do that unless we're going to need to do something with the items once we've found them. \n",
    "\n",
    "Consider the basic case:"
   ]
  },
  {
   "cell_type": "code",
   "execution_count": 1,
   "metadata": {},
   "outputs": [
    {
     "data": {
      "text/plain": [
       "True"
      ]
     },
     "execution_count": 1,
     "metadata": {},
     "output_type": "execute_result"
    }
   ],
   "source": [
    "s = \"I am a rather elderly man.\"\n",
    "ls = s.split()\n",
    "\n",
    "\"I\" in s"
   ]
  },
  {
   "cell_type": "markdown",
   "metadata": {},
   "source": [
    "`x in y` is an **expression**, which means it evaluates to something, which loosely means it can be run so that it reduces to a particular value; in the case of `in`, that value is either `True` or `False`. Note that `True` or `False` are *boolean* values, not strings (`\"True\"`), which means that Python can do logic things with them: for example, you can write `if True:` and your if-clause will always run (not too helpful). Because python is case sensitive and tends to be specific about its keywords, you need to use capital letters: `false` won't work.  \n",
    "\n",
    "You can capture the results of `x in y` and store the T/F in a variable if you want, which might be helpful if you were putting together metadata, for example (\"Does this text contain X?\"). \n",
    "\n",
    "More commonly, you'll see this pattern:"
   ]
  },
  {
   "cell_type": "code",
   "execution_count": 2,
   "metadata": {},
   "outputs": [
    {
     "name": "stdout",
     "output_type": "stream",
     "text": [
      "True\n",
      "Found \"scrivener\" in The nature of my avocations for the last thirty years has brought me into more than ordinary contact with what would seem an interesting and somewhat singular set of men, of whom as yet nothing that I know of has ever been written:—I mean the law-copyists or scriveners.\n"
     ]
    }
   ],
   "source": [
    "s1 = \"I am a rather elderly man.\"\n",
    "s2 = \"The nature of my avocations for the last thirty years has brought me into more than ordinary contact with what would seem an interesting and somewhat singular set of men, of whom as yet nothing that I know of has ever been written:—I mean the law-copyists or scriveners.\"\n",
    "s3 = \"I have known very many of them, professionally and privately, and if I pleased, could relate divers histories, at which good-natured gentlemen might smile, and sentimental souls might weep.\"\n",
    "\n",
    "ls = [s1, s2, s3]\n",
    "\n",
    "print(s1 in ls)\n",
    "\n",
    "for s in ls:\n",
    "    if \"scrivener\" in s:\n",
    "        print(f'Found \"scrivener\" in {s}')"
   ]
  },
  {
   "cell_type": "markdown",
   "metadata": {},
   "source": [
    "Note that this kind of search is pretty crude: it's just trying to pull substrings. It's smart enough to look inside the items of a list, but it won't match word boundaries or capital letters or anything like that. "
   ]
  },
  {
   "cell_type": "code",
   "execution_count": 3,
   "metadata": {},
   "outputs": [
    {
     "name": "stdout",
     "output_type": "stream",
     "text": [
      "True\n",
      "['I', 'am', 'a', 'rather', 'elderly', 'man.']\n",
      "True\n"
     ]
    }
   ],
   "source": [
    "print('the' in s1)\n",
    "ls = s1.split()\n",
    "print(ls)\n",
    "print('am' in ls)"
   ]
  },
  {
   "cell_type": "markdown",
   "metadata": {},
   "source": [
    "You don't need to fall back on regular expressions for super simply cases, though. Instead, you can use a bit of boolean logic:"
   ]
  },
  {
   "cell_type": "code",
   "execution_count": 4,
   "metadata": {},
   "outputs": [
    {
     "name": "stdout",
     "output_type": "stream",
     "text": [
      "True\n",
      "True\n"
     ]
    }
   ],
   "source": [
    "s4 = \"She is a rather elderly woman\"\n",
    "s5 = \"I think she is a rather elderly woman\"\n",
    "\n",
    "def find_she(s):\n",
    "    if 'she' in s or 'She' in s:\n",
    "        return True\n",
    "\n",
    "print(find_she(s4))\n",
    "print(find_she(s5))"
   ]
  },
  {
   "cell_type": "code",
   "execution_count": 5,
   "metadata": {},
   "outputs": [
    {
     "name": "stdout",
     "output_type": "stream",
     "text": [
      "True\n",
      "True\n"
     ]
    }
   ],
   "source": [
    "s6 = \"He is a rather elderly man\"\n",
    "s7 = \"I think he is a rather elderly man\"\n",
    "\n",
    "def find_he(s):\n",
    "    if ('he' or 'He') in s:\n",
    "        return True\n",
    "\n",
    "print(find_he(s4))\n",
    "print(find_he(s5))"
   ]
  },
  {
   "cell_type": "markdown",
   "metadata": {},
   "source": [
    "Probably the most useful structure of this type uses negation, which lets us determine when things are *not* in something. For example, we can easily return all the strings that don't contain the pronoun \"I\":"
   ]
  },
  {
   "cell_type": "code",
   "execution_count": 6,
   "metadata": {},
   "outputs": [
    {
     "name": "stdout",
     "output_type": "stream",
     "text": [
      "['Some time prior to the period at which this little history begins, my avocations had been largely increased', ' The good old office, now extinct in the State of New York, of a Master in Chancery, had been conferred upon me', ' It was not a very arduous office, but very pleasantly remunerative', ' I seldom lose my temper; much more seldom indulge in dangerous indignation at wrongs and outrages; but I must be permitted to be rash here and declare, that I consider the sudden and violent abrogation of the office of Master in Chancery, by the new Constitution, as a—premature act; inasmuch as I had counted upon a life-lease of the profits, whereas I only received those of a few short years', ' But this is by the way', '']\n"
     ]
    }
   ],
   "source": [
    "s8 = \"Some time prior to the period at which this little history begins, my avocations had been largely increased. The good old office, now extinct in the State of New York, of a Master in Chancery, had been conferred upon me. It was not a very arduous office, but very pleasantly remunerative. I seldom lose my temper; much more seldom indulge in dangerous indignation at wrongs and outrages; but I must be permitted to be rash here and declare, that I consider the sudden and violent abrogation of the office of Master in Chancery, by the new Constitution, as a—premature act; inasmuch as I had counted upon a life-lease of the profits, whereas I only received those of a few short years. But this is by the way.\"\n",
    "ls_bartleby = s8.split('.')\n",
    "print(ls_bartleby)\n",
    "# fix this list: 2 problems\n",
    "\n",
    "for sentence in ls_bartleby:\n",
    "    if 'I' not in sentence:\n",
    "        # print(sentence)\n",
    "        pass"
   ]
  },
  {
   "cell_type": "markdown",
   "metadata": {},
   "source": [
    "#### `while` loops\n",
    "\n",
    "Last class, we talked about how to search for substrings using `str.find()`, and how we can use the `start` and `end` parameters to find subsequent instances of the same substring. Consider the following stanza of Langston Hughes' \"Weary Blues\": \n",
    "\n",
    "`Droning a drowsy syncopated tune,\n",
    "Rocking back and forth to a mellow croon,\n",
    "I heard a Negro play.\n",
    "Down on Lenox Avenue the other night\n",
    "By the pale dull pallor of an old gas light\n",
    "He did a lazy sway. . . .\n",
    "He did a lazy sway. . . .\n",
    "To the tune o’ those Weary Blues.\n",
    "With his ebony hands on each ivory key\n",
    "He made that poor piano moan with melody.\n",
    "O Blues!\n",
    "Swaying to and fro on his rickety stool\n",
    "He played that sad raggy tune like a musical fool.\n",
    "Sweet Blues!\n",
    "Coming from a black man’s soul.\n",
    "O Blues!\n",
    "In a deep song voice with a melancholy tone\n",
    "I heard that Negro sing, that old piano moan—\n",
    "“Ain’t got nobody in all this world,\n",
    "Ain’t got nobody but ma self.\n",
    "I’s gwine to quit ma frownin’\n",
    "And put ma troubles on the shelf.”`\n",
    "\n",
    "Now, let's try to break it up into lines. We could us `str.split()`, of course, but let's assume for a second that that's not on the table. Instead, we can look through it for newlines and slice the string like we did last time.\n",
    "\n",
    "The problem is that the poem isn't a sonnet; we don't know how many lines there are, and we probably want to try to write something generic, so we don't want to count them ourselves and write `for i in range(22)`. \n",
    "\n",
    "We've looked at two different kinds of `for`-loops so far in this class: the basic `for`-loop, which loops over all of the elements of something, and the `range`-based `for`-loop, which runs a specific number of times by looping over all of the number in a range. The `while` loop covers the other cases you might encounter; it's actually the most general case of loop and can be used to write the others if you really want. \n",
    "\n",
    "The `while` loop is an *indefinite* loop, unlike the other two: there's no way to predict in advanced how many times it will run. Instead, we set a condition that must be true, and the loop runs **while** the condition is true. If the condition becomes false, the loop stops. In our case, we can start the loop with an index of 0, then loop character by character over the string, recording all the newlines and slicing out each line of the poem. That's going to be a bit complicated, though, so let's start with a simple example: we can count all the pieces of punctuation."
   ]
  },
  {
   "cell_type": "code",
   "execution_count": 7,
   "metadata": {},
   "outputs": [],
   "source": [
    "weary_blues = \"\"\"Droning a drowsy syncopated tune,\n",
    "Rocking back and forth to a mellow croon,\n",
    "I heard a Negro play.\n",
    "Down on Lenox Avenue the other night\n",
    "By the pale dull pallor of an old gas light\n",
    "He did a lazy sway. . . .\n",
    "He did a lazy sway. . . .\n",
    "To the tune o’ those Weary Blues.\n",
    "With his ebony hands on each ivory key\n",
    "He made that poor piano moan with melody.\n",
    "O Blues!\n",
    "Swaying to and fro on his rickety stool\n",
    "He played that sad raggy tune like a musical fool.\n",
    "Sweet Blues!\n",
    "Coming from a black man’s soul.\n",
    "O Blues!\n",
    "In a deep song voice with a melancholy tone\n",
    "I heard that Negro sing, that old piano moan—\n",
    "“Ain’t got nobody in all this world,\n",
    "Ain’t got nobody but ma self.\n",
    "I’s gwine to quit ma frownin’\n",
    "And put ma troubles on the shelf.”\"\"\""
   ]
  },
  {
   "cell_type": "code",
   "execution_count": 8,
   "metadata": {},
   "outputs": [],
   "source": [
    "def count_punct(s):\n",
    "    # we define these variables *outside* the loop, because we don't want to reset them every time we go through the loop\n",
    "    index = 0\n",
    "    count = 0\n",
    "    while (index < len(s)): # we'll stop at the end of the poem\n",
    "        if s[index] in '.,;:!?\\'\\\"':\n",
    "            count += 1 # add to our count\n",
    "    print(count)\n",
    "#count_punct(weary_blues)"
   ]
  },
  {
   "cell_type": "markdown",
   "metadata": {},
   "source": [
    "Okay, so what will happen if we run our new function? More importantly, if we try it, what goes wrong and how do we fix it?\n",
    "\n",
    "Now, if you think about the kinds of loops we've seen so far, you might realize we could rewrite our new while-loop with a for-loop, since we're actually just looping over every character in the poem. Let's return to our lines example, and try to get a list containing the indices of all the newlines in the poem:"
   ]
  },
  {
   "cell_type": "code",
   "execution_count": 9,
   "metadata": {},
   "outputs": [],
   "source": [
    "def find_newlines(s):\n",
    "    index = 0\n",
    "    newlines = []\n",
    "    while (index < len(s)):\n",
    "        newline = s.find('\\n', index)\n",
    "        if newline > 0:\n",
    "            # print(newline) \n",
    "            newlines.append(newline)\n",
    "            index = newline + 1\n",
    "    return newlines\n",
    "# find_newlines(weary_blues)"
   ]
  },
  {
   "cell_type": "markdown",
   "metadata": {},
   "source": [
    "Does that work? What's happening with our function? If you uncomment the print statement, can you get any insight?\n",
    "\n",
    "We solve this problem in one of two ways: either with a more specific loop condition, or by specifically telling the loop when to stop using the `break` keyword\n",
    "\n",
    "Finally, can you think about what we'd need to slice out the lines? We'll do it in class on Monday, but you technically have all the tools you need right now. "
   ]
  }
 ],
 "metadata": {
  "kernelspec": {
   "display_name": "Python 3",
   "language": "python",
   "name": "python3"
  },
  "language_info": {
   "codemirror_mode": {
    "name": "ipython",
    "version": 3
   },
   "file_extension": ".py",
   "mimetype": "text/x-python",
   "name": "python",
   "nbconvert_exporter": "python",
   "pygments_lexer": "ipython3",
   "version": "3.8.3"
  }
 },
 "nbformat": 4,
 "nbformat_minor": 4
}
